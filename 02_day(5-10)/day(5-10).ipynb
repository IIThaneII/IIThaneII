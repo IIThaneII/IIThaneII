{
 "cells": [
  {
   "cell_type": "code",
   "execution_count": null,
   "metadata": {},
   "outputs": [],
   "source": [
    "# 🚨 Hangman game Project 👇\n",
    "import random\n",
    "\n",
    "def listToString(s):\n",
    "    str1 = \"\"\n",
    "    for ele in s:\n",
    "        str1 += ele\n",
    "    return str1\n",
    "\n",
    "print(\"Welcome to the game of Hangman!\")\n",
    "lives = 6\n",
    "blank_list = []\n",
    "import hangman_words\n",
    "chosen_word = random.choice(hangman_words.word_list)\n",
    "import hangman_art\n",
    "print(hangman_art.logo)\n",
    "for k in range(len(chosen_word)):\n",
    "    blank_list.append(\"_\")\n",
    "\n",
    "while listToString(blank_list) != chosen_word and lives > 0:\n",
    "    guess = input(\"Guess a letter: \").lower()\n",
    "    for k in range(0, len(chosen_word)):\n",
    "        if blank_list[k-1] == guess:\n",
    "            print(f\"You already guessed this letter: {guess}\")\n",
    "            break\n",
    "        elif guess == chosen_word[k-1]:\n",
    "            blank_list[k-1] = guess\n",
    "    if guess not in chosen_word:\n",
    "      lives -= 1\n",
    "      print(f\"letter {guess} is not in the chosen word you loose one live!\")\n",
    "      print(f\"Your remain lives: {lives}\")\n",
    "      print(hangman_art.stages[lives-1])\n",
    "      print(f\"{' '.join(blank_list)}\")\n",
    "    else:\n",
    "      print(f\"{' '.join(blank_list)}\")\n",
    "if listToString(blank_list) == chosen_word:\n",
    "  print(\"You win!\")\n",
    "else:\n",
    "  print(\"You loose!\")"
   ]
  },
  {
   "cell_type": "code",
   "execution_count": null,
   "metadata": {},
   "outputs": [],
   "source": [
    "#Another way\n",
    "import random\n",
    "\n",
    "import hangman_words\n",
    "chosen_word = random.choice(hangman_words.word_list)\n",
    "word_length = len(chosen_word)\n",
    "\n",
    "end_of_game = False\n",
    "lives = 6\n",
    "import hangman_art\n",
    "print(hangman_art.logo)\n",
    "\n",
    "#Testing code\n",
    "print(f'Pssst, the solution is {chosen_word}.')\n",
    "\n",
    "#Create blanks\n",
    "display = []\n",
    "for _ in range(word_length):\n",
    "    display += \"_\"\n",
    "\n",
    "while not end_of_game:\n",
    "    guess = input(\"Guess a letter: \").lower()\n",
    "\n",
    "    #Check guessed letter\n",
    "    for position in range(word_length):\n",
    "        letter = chosen_word[position]\n",
    "\n",
    "        if display[position] == guess:\n",
    "            print(f\"You already guessed this letter: {guess}\")\n",
    "            break\n",
    "        elif letter == guess:\n",
    "            display[position] = letter\n",
    "\n",
    "    #Check if user is wrong.\n",
    "    if guess not in chosen_word:\n",
    "        print(f\"letter {guess} is not in the chosen word you loose one live!\")\n",
    "        lives -= 1\n",
    "        if lives == 0:\n",
    "            end_of_game = True\n",
    "            print(\"You lose.\")\n",
    "\n",
    "    #Join all the elements in the list and turn it into a String.\n",
    "    print(f\"{' '.join(display)}\")\n",
    "\n",
    "    #Check if user has got all letters.\n",
    "    if \"_\" not in display:\n",
    "        end_of_game = True\n",
    "        print(\"You win.\")\n",
    "    print(hangman_art.stages[lives])"
   ]
  },
  {
   "cell_type": "code",
   "execution_count": 1,
   "metadata": {},
   "outputs": [
    {
     "name": "stdout",
     "output_type": "stream",
     "text": [
      "Hello Thanh\n",
      "What is it like in HCM\n"
     ]
    }
   ],
   "source": [
    "# Function with input\n",
    "def greet_with(name, location):\n",
    "    print(f\"Hello {name}\")\n",
    "    print(f\"What is it like in {location}\")\n",
    "\n",
    "# Function with keyword arguments\n",
    "greet_with(location=\"HCM\", name=\"Thanh\")"
   ]
  },
  {
   "cell_type": "code",
   "execution_count": 4,
   "metadata": {},
   "outputs": [
    {
     "name": "stdout",
     "output_type": "stream",
     "text": [
      "Height: 7, Width: 13\n",
      "You'll need 19 cans of paint.\n"
     ]
    }
   ],
   "source": [
    "import math\n",
    "def paint_calc(height, width, cover):\n",
    "    num_cans = math.ceil((height*width)/cover) #round up the number cans of paint\n",
    "    print(f\"Height: {height}, Width: {width}\")\n",
    "    print(f\"You'll need {num_cans} cans of paint.\")  \n",
    "\n",
    "# 🚨 Paint Calculator 👇\n",
    "test_h = int(input(\"Height of wall: \"))\n",
    "test_w = int(input(\"Width of wall: \"))\n",
    "coverage = 5\n",
    "paint_calc(height=test_h, width=test_w, cover=coverage)"
   ]
  },
  {
   "cell_type": "code",
   "execution_count": 5,
   "metadata": {},
   "outputs": [
    {
     "name": "stdout",
     "output_type": "stream",
     "text": [
      "Number: 73\n",
      "It's a prime number.\n"
     ]
    }
   ],
   "source": [
    "# 🚨 Prime number check 👇\n",
    "import math\n",
    "def prime_checker(number):\n",
    "    print(f\"Number: {number}\")\n",
    "    if number == 2:\n",
    "        print(\"It's a prime number.\")\n",
    "    else:\n",
    "        for num in range(2,math.ceil(math.sqrt(number))+1):\n",
    "            if number % num == 0:\n",
    "                print(\"It's not a prime number.\")\n",
    "                break\n",
    "            if math.ceil(math.sqrt(number))-1 == num:\n",
    "                print(\"It's a prime number.\")\n",
    "\n",
    "n = int(input(\"Check this number: \"))\n",
    "prime_checker(number=n)"
   ]
  },
  {
   "cell_type": "code",
   "execution_count": 8,
   "metadata": {},
   "outputs": [
    {
     "name": "stdout",
     "output_type": "stream",
     "text": [
      "Number: 2\n",
      "It's a prime number.\n"
     ]
    }
   ],
   "source": [
    "# 🚨 Prime number check 2.0 👇\n",
    "def prim_checker(number):\n",
    "    print(f\"Number: {number}\")\n",
    "    is_prime = True\n",
    "    for i in range(2, number):\n",
    "        if number % i == 0:\n",
    "            is_prime = False\n",
    "        if is_prime:\n",
    "            print(\"It's a prime number.\")\n",
    "        else:\n",
    "            print(\"It's not a prime number.\")\n",
    "\n",
    "n = int(input(\"Check this number: \"))\n",
    "prime_checker(number=n)"
   ]
  },
  {
   "cell_type": "code",
   "execution_count": null,
   "metadata": {},
   "outputs": [],
   "source": [
    "# 🚨 Caesar cipher 👇\n",
    "alphabet = ['a', 'b', 'c', 'd', 'e', 'f', 'g', 'h', 'i', 'j', 'k', 'l', 'm', 'n', 'o', 'p', 'q', 'r', 's', 't', 'u', 'v', 'w', 'x', 'y', 'z']\n",
    "\n",
    "def caesar(direction):\n",
    "  if direction == \"encode\":\n",
    "    text = input(\"Type your message:\\n\").lower()\n",
    "    shift = int(input(\"Type the shift number:\\n\"))\n",
    "    shift = int(shift)\n",
    "  elif direction == \"decode\":\n",
    "    text = input(\"Type your message:\\n\").lower()\n",
    "    shift = int(input(\"Type the shift number:\\n\"))\n",
    "    shift = 26 - int(shift)\n",
    "  else:\n",
    "    print(\"Syntax error\")\n",
    "    return 0\n",
    "  result_text = \"\"\n",
    "  for i in range(len(text)):\n",
    "    if text[i] not in alphabet:\n",
    "      result_text += text[i]\n",
    "    elif alphabet.index(text[i]) + shift > 25:\n",
    "      result_text += alphabet[int(alphabet.index(text[i]))+(shift%26)-26]\n",
    "    else:\n",
    "      result_text += alphabet[int(alphabet.index(text[i])+shift)]\n",
    "  print(f\"The {direction}d text is: {result_text}\")\n",
    "\n",
    "from caesar_art import logo\n",
    "print(logo)\n",
    "continue_program = True\n",
    "while continue_program:\n",
    "  direction = input(\"Type 'encode' to encrypt, type 'decode' to decrypt:\\n\")\n",
    "  caesar(direction)\n",
    "  go_again = input(\"Type 'yes' if you want to go again. Otherwise type 'no'.\")\n",
    "  if go_again == \"no\":\n",
    "    continue_program = False\n"
   ]
  },
  {
   "cell_type": "code",
   "execution_count": null,
   "metadata": {},
   "outputs": [],
   "source": [
    "#Dictionary syntax\n",
    "programming_dictionary = {\n",
    "  \"Bug\": \"An error in a program that prevents the program from running as expected.\",\n",
    "  \"Function\": \"A piece of code that you can easily call over and over again.\",\n",
    "}\n",
    "\n",
    "#Retrieving items from dictionary. \n",
    "print(programming_dictionary[\"Bug\"])\n",
    "\n",
    "#Adding new items to dictionary.\n",
    "programming_dictionary[\"Loop\"] = \"The action of doing something over and over again.\"\n",
    "\n",
    "#Create an empty dictionary\n",
    "empty_dictionary = {}\n",
    "\n",
    "#Wipe an existing dictionary\n",
    "programming_dictionary = {}\n",
    "\n",
    "#Edit an iten in a dictionary\n",
    "programming_dictionary[\"Bug\"] = \"A moth in your computer\"\n",
    "\n",
    "#Loop through a dictionary\n",
    "for key in programming_dictionary:\n",
    "    print(key)\n",
    "    print(programming_dictionary[key])"
   ]
  },
  {
   "cell_type": "code",
   "execution_count": 2,
   "metadata": {},
   "outputs": [
    {
     "name": "stdout",
     "output_type": "stream",
     "text": [
      "{'Harry': 'Exceeds Expectations', 'Ron': 'Acceptable', 'Hermione': 'Outstanding', 'Draco': 'Acceptable', 'Neville': 'Fail'}\n"
     ]
    }
   ],
   "source": [
    "# 🚨 Grading program \n",
    "student_scores = {\n",
    "  \"Harry\": 81,\n",
    "  \"Ron\": 78,\n",
    "  \"Hermione\": 99, \n",
    "  \"Draco\": 74,\n",
    "  \"Neville\": 62,\n",
    "}\n",
    "student_grades = {}\n",
    "for name in student_scores:\n",
    "    if student_scores[name] > 90:\n",
    "        student_grades[name] = \"Outstanding\"\n",
    "    elif student_scores[name] > 80:\n",
    "        student_grades[name] = \"Exceeds Expectations\"\n",
    "    elif student_scores[name] > 70:\n",
    "        student_grades[name] = \"Acceptable\"\n",
    "    else:\n",
    "        student_grades[name] = \"Fail\"\n",
    "print(student_grades)"
   ]
  },
  {
   "cell_type": "code",
   "execution_count": null,
   "metadata": {},
   "outputs": [],
   "source": [
    "#Nesting \n",
    "capitals = {\n",
    "  \"France\": \"Paris\",\n",
    "  \"Germany\": \"Berlin\",\n",
    "}\n",
    "\n",
    "#Nesting a List in a Dictionary\n",
    "travel_log = {\n",
    "  \"France\": [\"Paris\", \"Lille\", \"Dijon\"],\n",
    "  \"Germany\": [\"Berlin\", \"Hamburg\", \"Stuttgart\"],\n",
    "}\n",
    "\n",
    "#Nesting Dictionary in a Dictionary\n",
    "travel_log = {\n",
    "  \"France\": {\"cities_visited\": [\"Paris\", \"Lille\", \"Dijon\"], \"total_visits\": 12},\n",
    "  \"Germany\": {\"cities_visited\": [\"Berlin\", \"Hamburg\", \"Stuttgart\"], \"total_visits\": 5},\n",
    "}\n",
    "\n",
    "#Nesting Dictionaries in Lists\n",
    "travel_log = [\n",
    "{\n",
    "  \"country\": \"France\", \n",
    "  \"cities_visited\": [\"Paris\", \"Lille\", \"Dijon\"], \n",
    "  \"total_visits\": 12,\n",
    "},\n",
    "{\n",
    "  \"country\": \"Germany\",\n",
    "  \"cities_visited\": [\"Berlin\", \"Hamburg\", \"Stuttgart\"],\n",
    "  \"total_visits\": 5,\n",
    "},\n",
    "]"
   ]
  },
  {
   "cell_type": "code",
   "execution_count": 3,
   "metadata": {},
   "outputs": [
    {
     "name": "stdout",
     "output_type": "stream",
     "text": [
      "[{'country': 'France', 'visits': 12, 'cities': ['Paris', 'Lille', 'Dijon']}, {'country': 'Germany', 'visits': 5, 'cities': ['Berlin', 'Hamburg', 'Stuttgart']}, {'country': 'Russia', 'visits': 2, 'cities': ['Moscow', 'Saint Petersburg']}]\n"
     ]
    }
   ],
   "source": [
    "# 🚨 Dictionary in List\n",
    "travel_log = [\n",
    "{\n",
    "  \"country\": \"France\",\n",
    "  \"visits\": 12,\n",
    "  \"cities\": [\"Paris\", \"Lille\", \"Dijon\"]\n",
    "},\n",
    "{\n",
    "  \"country\": \"Germany\",\n",
    "  \"visits\": 5,\n",
    "  \"cities\": [\"Berlin\", \"Hamburg\", \"Stuttgart\"]\n",
    "},\n",
    "]\n",
    "\n",
    "def add_new_country(country, visits, cities):\n",
    "    place = {\n",
    "        \"country\": country,\n",
    "        \"visits\": visits,\n",
    "        \"cities\": cities\n",
    "    }\n",
    "    travel_log.append(place)\n",
    "\n",
    "add_new_country(\"Russia\", 2, [\"Moscow\", \"Saint Petersburg\"])\n",
    "print(travel_log)"
   ]
  },
  {
   "cell_type": "code",
   "execution_count": 3,
   "metadata": {},
   "outputs": [
    {
     "name": "stdout",
     "output_type": "stream",
     "text": [
      "\n",
      "                         ___________\n",
      "                         \\         /\n",
      "                          )_______(\n",
      "                          |\"\"\"\"\"\"\"|_.-._,.---------.,_.-._\n",
      "                          |       | | |               | | ''-.\n",
      "                          |       |_| |_             _| |_..-'\n",
      "                          |_______| '-' `'---------'` '-'\n",
      "                          )\"\"\"\"\"\"\"(\n",
      "                         /_________\\\n",
      "                       .-------------.\n",
      "                      /_______________\\\n",
      "\n",
      "The winner is Trung\n"
     ]
    }
   ],
   "source": [
    "import os\n",
    "from bid_art import logo\n",
    "print(logo)\n",
    "\n",
    "rebid = True;\n",
    "bid_name = {}\n",
    "\n",
    "while rebid:\n",
    "  name = input(\"What is your name? \")\n",
    "  bid = input(\"How many money you want to bid? $\")\n",
    "  bid_name[name] = int(bid)\n",
    "  re = input(\"Are there any other users want to bid?(yes/no) \")\n",
    "  if re == \"no\":\n",
    "      rebid = False\n",
    "  clear = lambda: os.system('cls')\n",
    "  clear()\n",
    "\n",
    "max = 0\n",
    "for name in bid_name:\n",
    "  if bid_name[name] > max:\n",
    "    max = bid_name[name]\n",
    "    name1 = name\n",
    "\n",
    "print(f\"The winner is {name1}\")"
   ]
  },
  {
   "cell_type": "code",
   "execution_count": 11,
   "metadata": {},
   "outputs": [
    {
     "name": "stdout",
     "output_type": "stream",
     "text": [
      "Thanh Nguyen\n"
     ]
    }
   ],
   "source": [
    "# Functions with Outputs\n",
    "\n",
    "def format_name(f_name, l_name):\n",
    "    name = \"\"\n",
    "    for n in range(len(f_name)):\n",
    "        if n == 0:\n",
    "            name += f_name[0].upper()\n",
    "        else:\n",
    "            name += f_name[n].lower()\n",
    "    name += \" \" \n",
    "    for n in range(len(l_name)):\n",
    "        if n == 0:\n",
    "            name += l_name[0].upper()\n",
    "        else:\n",
    "            name += l_name[n].lower()\n",
    "    return name\n",
    "f_name = input(\"Input your first name: \")\n",
    "l_name = input(\"Input your last name: \")\n",
    "print(format_name(f_name, l_name))"
   ]
  },
  {
   "cell_type": "code",
   "execution_count": 12,
   "metadata": {},
   "outputs": [
    {
     "name": "stdout",
     "output_type": "stream",
     "text": [
      "Thanh Nguyen\n"
     ]
    }
   ],
   "source": [
    "# Same function with the code above\n",
    "\n",
    "def format_name(f_name, l_name):\n",
    "    name = f_name.title() + \" \" + l_name.title()\n",
    "    return name\n",
    "f_name = input(\"Input your first name: \")\n",
    "l_name = input(\"Input your last name: \")\n",
    "print(format_name(f_name, l_name))"
   ]
  },
  {
   "cell_type": "code",
   "execution_count": 13,
   "metadata": {},
   "outputs": [
    {
     "name": "stdout",
     "output_type": "stream",
     "text": [
      "You didn't provide valid inputs.\n"
     ]
    }
   ],
   "source": [
    "# Same function with the code above but upgraded\n",
    "# Multiple return values\n",
    "\n",
    "def format_name(f_name, l_name):\n",
    "    if f_name == \"\" or l_name == \"\":\n",
    "        return \"You didn't provide valid inputs.\"\n",
    "    name = f_name.title() + \" \" + l_name.title()\n",
    "    return name\n",
    "print(format_name(input(\"Input your first name: \"), input(\"Input your last name: \")))"
   ]
  },
  {
   "cell_type": "code",
   "execution_count": 14,
   "metadata": {},
   "outputs": [
    {
     "name": "stdout",
     "output_type": "stream",
     "text": [
      "29\n"
     ]
    }
   ],
   "source": [
    "#🚨 Days in Month\n",
    "\n",
    "def is_leap(year):\n",
    "  if year % 4 == 0:\n",
    "    if year % 100 == 0:\n",
    "      if year % 400 == 0:\n",
    "        return True\n",
    "      else:\n",
    "        return False\n",
    "    else:\n",
    "      return True\n",
    "  else:\n",
    "    return False\n",
    "\n",
    "def days_in_month(year, month):\n",
    "  month_days = [31, 28, 31, 30, 31, 30, 31, 31, 30, 31, 30, 31]\n",
    "  if is_leap(year) == True and month == 2:\n",
    "      return month_days[1] + 1\n",
    "  elif is_leap(year) == False and month == 2:\n",
    "      return 29\n",
    "  else:\n",
    "      return month_days[month - 1]   \n",
    "\n",
    "year = int(input(\"Enter a year: \"))\n",
    "month = int(input(\"Enter a month: \"))\n",
    "days = days_in_month(year, month)\n",
    "print(days)"
   ]
  },
  {
   "cell_type": "code",
   "execution_count": null,
   "metadata": {},
   "outputs": [],
   "source": [
    "# Calculator\n",
    "\n",
    "#Add\n",
    "def add(n1, n2):\n",
    "  return n1 + n2\n",
    "\n",
    "#Subtract\n",
    "def sub(n1, n2):\n",
    "  return n1 - n2\n",
    "\n",
    "#Multiple\n",
    "def mul(n1, n2):\n",
    "  return n1 * n2\n",
    "\n",
    "#Divide\n",
    "def div(n1, n2):\n",
    "  return n1 / n2\n",
    "\n",
    "cal = {\n",
    "  \"*\" : mul,\n",
    "  \"+\" : add,\n",
    "  \"-\" : sub,\n",
    "  \"/\" : div,\n",
    "}\n",
    "\n",
    "from calculator_art import logo\n",
    "print(logo)\n",
    "num1 = float(input(\"What's the first number?: \"))\n",
    "for sym in cal:\n",
    "  print(sym)\n",
    "re = True\n",
    "while re:\n",
    "  cal_sym = input(\"Pick an operation symbol: \")\n",
    "  num2 = float(input(\"What's the next number?: \"))\n",
    "  result = cal[cal_sym](num1, num2)\n",
    "  print(f\"{num1} {cal_sym} {num2} = {result}\")\n",
    "  a = input(f\"Type 'y' to continue calculating with {result}, or 'n' to exit.: \")\n",
    "  if a == 'n':\n",
    "    re = False\n",
    "  num1 = result"
   ]
  }
 ],
 "metadata": {
  "interpreter": {
   "hash": "d20d4eed201e135a92e4cffa48ff938af52352adb5646d0546e5d7d302dddd31"
  },
  "kernelspec": {
   "display_name": "Python 3.9.7 ('base')",
   "language": "python",
   "name": "python3"
  },
  "language_info": {
   "codemirror_mode": {
    "name": "ipython",
    "version": 3
   },
   "file_extension": ".py",
   "mimetype": "text/x-python",
   "name": "python",
   "nbconvert_exporter": "python",
   "pygments_lexer": "ipython3",
   "version": "3.9.7"
  },
  "orig_nbformat": 4
 },
 "nbformat": 4,
 "nbformat_minor": 2
}
