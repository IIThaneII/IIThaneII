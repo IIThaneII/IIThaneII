{
 "cells": [
  {
   "cell_type": "code",
   "execution_count": null,
   "metadata": {},
   "outputs": [],
   "source": [
    "# 🚨 Age and Gender guessing with Jinja.\n",
    "## ⚡ Main.\n",
    "from flask import Flask, render_template\n",
    "import requests\n",
    "\n",
    "URL_GENDER = \"https://api.genderize.io\"\n",
    "URL_AGE = \"https://api.agify.io\"\n",
    "\n",
    "app = Flask(__name__)\n",
    "\n",
    "@app.route('/')\n",
    "def home():\n",
    "    return  '<h1>HI THIS IS OUR HOMEPAGE.</h1>' \\\n",
    "            '<h1>PLEASE INPUT YOUR NAME.</h1>' \\\n",
    "            '<img src=\"https://media.giphy.com/media/YAlhwn67KT76E/giphy.gif\" width=400>'\n",
    "\n",
    "@app.route('/<name>')\n",
    "def name_input(name):\n",
    "    params = {\n",
    "    'name': name\n",
    "}\n",
    "    response = requests.get(url=URL_GENDER, params=params)\n",
    "    response.raise_for_status()\n",
    "    gender_result = response.json()\n",
    "    gender = gender_result['gender']\n",
    "    response = requests.get(url=URL_AGE, params=params)\n",
    "    response.raise_for_status()\n",
    "    age_result = response.json()\n",
    "    age = age_result['age']\n",
    "    return render_template('index.html', name=name, gender=gender, age=age)\n",
    "\n",
    "\n",
    "if __name__ == '__main__':\n",
    "    app.run(debug=True)"
   ]
  },
  {
   "cell_type": "code",
   "execution_count": null,
   "metadata": {},
   "outputs": [],
   "source": [
    "# 🚨 Age and Gender guessing with Jinja.\n",
    "## ⚡ HTML.\n",
    "<!DOCTYPE html>\n",
    "<html lang=\"en\">\n",
    "<head>\n",
    "    <meta charset=\"UTF-8\">\n",
    "    <title>Genderize & Agify</title>\n",
    "    <link rel=\"stylesheet\" href=\"static/style.css\">\n",
    "</head>\n",
    "<body>\n",
    "    <h1>Hi {{ name }},</h1>\n",
    "    <h1>I think you are {{ gender }},</h1>\n",
    "    <h3>And maybe {{ age }} years old</h3>\n",
    "    <img src=\"https://media.giphy.com/media/StKiS6x698JAl9d6cx/giphy.gif\" alt=\"minion gif\" width=\"400\">\n",
    "</body>\n",
    "</html>"
   ]
  }
 ],
 "metadata": {
  "kernelspec": {
   "display_name": "Python 3.9.7 ('base')",
   "language": "python",
   "name": "python3"
  },
  "language_info": {
   "codemirror_mode": {
    "name": "ipython",
    "version": 3
   },
   "file_extension": ".py",
   "mimetype": "text/x-python",
   "name": "python",
   "nbconvert_exporter": "python",
   "pygments_lexer": "ipython3",
   "version": "3.9.7"
  },
  "orig_nbformat": 4,
  "vscode": {
   "interpreter": {
    "hash": "d20d4eed201e135a92e4cffa48ff938af52352adb5646d0546e5d7d302dddd31"
   }
  }
 },
 "nbformat": 4,
 "nbformat_minor": 2
}
