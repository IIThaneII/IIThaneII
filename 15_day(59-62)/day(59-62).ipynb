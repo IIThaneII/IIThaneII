{
 "cells": [
  {
   "cell_type": "code",
   "execution_count": null,
   "metadata": {},
   "outputs": [],
   "source": [
    "#⚡⚡ The requirements.txt file is a file where you can specify all the dependencies \n",
    "# (the installed packages that your project depends on) and their versions. This means \n",
    "# that you can share your project without all the installed packages, making it a lot \n",
    "# more lightweight. When someone downloads your project (like you have done here), the \n",
    "# requirements.txt file tells their code editor which packages need to be installed. \n",
    "#https://docs.google.com/document/d/e/2PACX-1vRIW_TuZ6z0ASjAoxgJgmzjGYLCDx019tKvphaTwK_Za7fnMKywUuXI0-s5wr0nQI_gprm6J6y7L9rL/pub"
   ]
  },
  {
   "cell_type": "code",
   "execution_count": null,
   "metadata": {},
   "outputs": [],
   "source": [
    "#⚡⚡ Flask-Bootstrap Supports WTForms\n",
    "# Literally, in 1 line of code, you can create your form. It's as simple as:\n",
    "# {‌{ wtf.quick_form(form) }}\n",
    "# What this line of code will do is generate all the labels, inputs, buttons, styling \n",
    "# for your form just by taking the WTForm object that was passed to the template (form)."
   ]
  }
 ],
 "metadata": {
  "kernelspec": {
   "display_name": "Python 3.9.7 ('base')",
   "language": "python",
   "name": "python3"
  },
  "language_info": {
   "name": "python",
   "version": "3.9.7"
  },
  "orig_nbformat": 4,
  "vscode": {
   "interpreter": {
    "hash": "d20d4eed201e135a92e4cffa48ff938af52352adb5646d0546e5d7d302dddd31"
   }
  }
 },
 "nbformat": 4,
 "nbformat_minor": 2
}
