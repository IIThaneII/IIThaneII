{
 "cells": [
  {
   "cell_type": "code",
   "execution_count": null,
   "metadata": {},
   "outputs": [],
   "source": [
    "# Set unicode to utf-8\n",
    "set PYTHONIOENCODING=utf-8\n",
    "set PYTHONLEGACYWINDOWSSTDIO=utf-8\n",
    "\n",
    "import sys\n",
    "sys.stdin.reconfigure(encoding='utf-8')\n",
    "sys.stdout.reconfigure(encoding='utf-8')"
   ]
  },
  {
   "cell_type": "code",
   "execution_count": null,
   "metadata": {},
   "outputs": [],
   "source": [
    "# PUT vs PATCH\n",
    "# PUT will replace all the data in row.\n",
    "# PATCH will replace some pieces of the data in row."
   ]
  },
  {
   "cell_type": "code",
   "execution_count": null,
   "metadata": {},
   "outputs": [],
   "source": [
    "# ⚡ Hacking password 101\n",
    "password_strength_cheker = \"http://password-checker.online-domain-tools.com/\"\n",
    "password_is_hacked_cheker = \"https://haveibeenpwned.com/Passwords\"\n",
    "list_of_common_password = \"https://en.wikipedia.org/wiki/List_of_the_most_common_passwords\"\n",
    "\n",
    "# ⚡ You can use dictionary and phone book to create a hash table to compare \n",
    "# to the data as hash function have the same output for the same password.\n",
    "\n",
    "# ⚡ Hashing + Salting will increase the security of the passwords.\n",
    "# - Passwords + random characters --> Hash => strong secure.\n",
    "\n",
    "# ⚡ Or even more secure passwords can be created by more round of hashing and salting.\n",
    "# - Passwords + random characters --> Hash + random characters --> Hash --> ... => strong secure."
   ]
  },
  {
   "cell_type": "code",
   "execution_count": null,
   "metadata": {},
   "outputs": [],
   "source": [
    "## NOTE: HTML forms (WTForms included) do not accept PUT, PATCH or DELETE methods. \n",
    "# So while this would normally be a PUT request (replacing existing data), \n",
    "# because the request is coming from a HTML form, \n",
    "# you should accept the edited post as a POST request."
   ]
  },
  {
   "cell_type": "code",
   "execution_count": null,
   "metadata": {},
   "outputs": [],
   "source": [
    "## Sometimes your website will display rich text with html tags in it, notice and understand the problem."
   ]
  },
  {
   "cell_type": "code",
   "execution_count": null,
   "metadata": {},
   "outputs": [],
   "source": [
    "# ⚡ Verson Control and Git\n",
    "# 'git init': create git local repository and start tracking file changes.\n",
    "# 'ls -a', 'git status', 'git add + file_name'.\n",
    "# 'git commit -m \"command_you_make\"'.\n",
    "# 'git log': see what commited.\n",
    "# 'git add .': add all file in the current working directory.\n",
    "# 'git diff + file_name': view the differences between commit status and current changes.\n",
    "# 'git checkout + file_name': go back to the previous commit status.\n",
    "\n",
    "# 'git remote add origin + path': add remote file to git version control.\n",
    "# 'git push -u origin master': push to remote origin and master branch."
   ]
  }
 ],
 "metadata": {
  "kernelspec": {
   "display_name": "Python 3.9.7 ('base')",
   "language": "python",
   "name": "python3"
  },
  "language_info": {
   "codemirror_mode": {
    "name": "ipython",
    "version": 3
   },
   "file_extension": ".py",
   "mimetype": "text/x-python",
   "name": "python",
   "nbconvert_exporter": "python",
   "pygments_lexer": "ipython3",
   "version": "3.9.7"
  },
  "orig_nbformat": 4,
  "vscode": {
   "interpreter": {
    "hash": "d20d4eed201e135a92e4cffa48ff938af52352adb5646d0546e5d7d302dddd31"
   }
  }
 },
 "nbformat": 4,
 "nbformat_minor": 2
}
