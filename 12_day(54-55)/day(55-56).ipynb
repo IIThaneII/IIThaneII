{
 "cells": [
  {
   "cell_type": "code",
   "execution_count": 8,
   "metadata": {},
   "outputs": [],
   "source": [
    "                                #🔺🔺 WEB DEVELOPMENT WITH FLASK 🔺🔺#\n",
    "flask_doc = \"https://flask.palletsprojects.com/en/1.1.x/quickstart/\""
   ]
  },
  {
   "cell_type": "code",
   "execution_count": 9,
   "metadata": {},
   "outputs": [],
   "source": [
    "# Must move the file out side to find out where the directory is located. ⚡\n",
    "from flask import Flask\n",
    "app = Flask(__name__)\n",
    "\n",
    "@app.route('/')\n",
    "def hello_world():\n",
    "    return 'Hello, World!'"
   ]
  },
  {
   "cell_type": "code",
   "execution_count": 10,
   "metadata": {},
   "outputs": [],
   "source": [
    "# Understand Command Line. ⚡\n",
    "# ☞ \"echo.>filename(main.py)\" create new file in that directory.\n",
    "# ☞ \"cd ..\" move to the parent directory."
   ]
  },
  {
   "cell_type": "code",
   "execution_count": null,
   "metadata": {},
   "outputs": [],
   "source": [
    "## ⚡ Python Functions as First Class Objects: Passing & Nesting Functions.\n",
    "## Functions can have inputs/functionality/output\n",
    "def add(n1, n2):\n",
    "    return n1 + n2\n",
    "\n",
    "def subtract(n1, n2):\n",
    "    return n1 - n2\n",
    "\n",
    "def multiply(n1, n2):\n",
    "    return n1 * n2\n",
    "\n",
    "def divide(n1, n2):\n",
    "    return n1 / n2\n",
    "\n",
    "##Functions are first-class objects, can be passed around as arguments e.g. int/string/float etc.\n",
    "\n",
    "def calculate(calc_function, n1, n2):\n",
    "    return calc_function(n1, n2)\n",
    "\n",
    "result = calculate(add, 2, 3)\n",
    "print(result)\n",
    "\n",
    "##Functions can be nested in other functions\n",
    "\n",
    "def outer_function():\n",
    "    print(\"I'm outer\")\n",
    "\n",
    "    def nested_function():\n",
    "        print(\"I'm inner\")\n",
    "\n",
    "    nested_function()\n",
    "\n",
    "outer_function()\n",
    "\n",
    "## Functions can be returned from other functions\n",
    "def outer_function():\n",
    "    print(\"I'm outer\")\n",
    "\n",
    "    def nested_function():\n",
    "        print(\"I'm inner\")\n",
    "\n",
    "    return nested_function\n",
    "\n",
    "inner_function = outer_function()\n",
    "inner_function()"
   ]
  },
  {
   "cell_type": "code",
   "execution_count": null,
   "metadata": {},
   "outputs": [],
   "source": [
    "## ⚡ Simple Python Decorator Functions\n",
    "import time\n",
    "\n",
    "def delay_decorator(function):\n",
    "    def wrapper_function():\n",
    "        time.sleep(2)\n",
    "        #Do something before\n",
    "        function()\n",
    "        function()\n",
    "        #Do something after\n",
    "    return wrapper_function\n",
    "\n",
    "@delay_decorator\n",
    "def say_hello():\n",
    "    print(\"Hello\")\n",
    "\n",
    "#With the @ syntactic sugar\n",
    "@delay_decorator\n",
    "def say_bye():\n",
    "    print(\"Bye\")\n",
    "\n",
    "#Without the @ syntactic sugar\n",
    "def say_greeting():\n",
    "    print(\"How are you?\")\n",
    "decorated_function = delay_decorator(say_greeting)\n",
    "decorated_function()"
   ]
  },
  {
   "cell_type": "code",
   "execution_count": 26,
   "metadata": {},
   "outputs": [
    {
     "name": "stdout",
     "output_type": "stream",
     "text": [
      "1660187569.1145625\n",
      "fast_function run speed: 0.8951027393341064\n",
      "slow_function run speed: 8.732407331466675\n"
     ]
    }
   ],
   "source": [
    "import time\n",
    "current_time = time.time()\n",
    "print(current_time)\n",
    "\n",
    "def speed_calc_decorator(function):\n",
    "    def speed_calc():\n",
    "        function()\n",
    "        ans = time.time() - current_time\n",
    "        return ans\n",
    "    return speed_calc\n",
    "\n",
    "@speed_calc_decorator\n",
    "def fast_function():\n",
    "    for i in range(10000000):\n",
    "        i * i\n",
    "        \n",
    "@speed_calc_decorator        \n",
    "def slow_function():\n",
    "    for i in range(100000000):\n",
    "        i * i\n",
    "\n",
    "print(f\"fast_function run speed: {fast_function()}\")\n",
    "print(f\"slow_function run speed: {slow_function()}\")"
   ]
  },
  {
   "cell_type": "code",
   "execution_count": null,
   "metadata": {},
   "outputs": [],
   "source": [
    "# Must move the file to where the directory is located.\n",
    "from flask import Flask\n",
    "import random\n",
    "app = Flask(__name__)\n",
    "\n",
    "print(random.__name__)\n",
    "print(__name__)\n",
    "\n",
    "@app.route('/')\n",
    "def hello_world(): # http://127.0.0.1:5000\n",
    "    return '<h1 style=\"text-align:center\">Hello, World!</h1>'  # render html\n",
    "\n",
    "if __name__ == '__main__':\n",
    "    app.run(debug=True)"
   ]
  },
  {
   "cell_type": "code",
   "execution_count": null,
   "metadata": {},
   "outputs": [],
   "source": [
    "from flask import Flask\n",
    "\n",
    "app = Flask(__name__)\n",
    "\n",
    "@app.route('/')\n",
    "def hello_world(): # http://127.0.0.1:5000\n",
    "    return  '<h1 style=\"text-align:center\">Hello, World!</h1>' \\\n",
    "            '<p>This is a paraghraph</p>' \\\n",
    "            '<img src=\"https://media.giphy.com/media/K1wjOn6HImv7y/giphy.gif\" width=\"300\">' \\\n",
    "\n",
    "@app.route('/bye')\n",
    "def say_bye(): # http://127.0.0.1:5000/bye\n",
    "    return 'Bye!' \n",
    "\n",
    "@app.route('/<name>/<int:number>')\n",
    "def hello_user(name, number): # http://127.0.0.1:5000/Thanh/19\n",
    "    return f'Hello {name}, you are {number} years old.'\n",
    "\n",
    "if __name__ == '__main__':\n",
    "    app.run(debug=True)"
   ]
  },
  {
   "cell_type": "code",
   "execution_count": null,
   "metadata": {},
   "outputs": [],
   "source": [
    "## ⚡ Exercise make decorator functions.\n",
    "from flask import Flask\n",
    "\n",
    "app = Flask(__name__)\n",
    "\n",
    "def make_bold(function):\n",
    "    def wrapped_func():\n",
    "        bold = f\"<b>{function()}</b>\"\n",
    "        return bold\n",
    "    return wrapped_func\n",
    "\n",
    "def make_emphasize(function):\n",
    "    def wrapped_func():\n",
    "        emphasize = f\"<em>{function()}</em>\"\n",
    "        return emphasize\n",
    "    return wrapped_func\n",
    "\n",
    "def make_underline(function):\n",
    "    def wrapped_func():\n",
    "        underline = f\"<u>{function()}</u>\"\n",
    "        return underline\n",
    "    return wrapped_func\n",
    "\n",
    "@app.route('/bye')\n",
    "@make_bold\n",
    "@make_underline\n",
    "@make_emphasize\n",
    "def say_bye(): # http://127.0.0.1:5000/bye\n",
    "    return 'Bye!' \n",
    "\n",
    "if __name__ == '__main__':\n",
    "    app.run(debug=True)"
   ]
  },
  {
   "cell_type": "code",
   "execution_count": 28,
   "metadata": {},
   "outputs": [
    {
     "name": "stdout",
     "output_type": "stream",
     "text": [
      "This is Thane's new blog post.\n"
     ]
    }
   ],
   "source": [
    "## ⚡ Advanced Decorators with *args and **kwargs.\n",
    "class User:\n",
    "    def __init__(self, name):\n",
    "        self.name = name\n",
    "        self.is_logged_in = False\n",
    "\n",
    "def is_authenticated_decorator(function):\n",
    "    def wrapper(*args, **kwargs):\n",
    "        if args[0].is_logged_in == True:\n",
    "            function(args[0])\n",
    "    return wrapper\n",
    "\n",
    "@is_authenticated_decorator\n",
    "def create_blog_post(user):\n",
    "    print(f\"This is {user.name}'s new blog post.\")\n",
    "\n",
    "new_user = User(\"Thane\")\n",
    "new_user.is_logged_in = True\n",
    "create_blog_post(new_user)"
   ]
  },
  {
   "cell_type": "code",
   "execution_count": 32,
   "metadata": {},
   "outputs": [
    {
     "name": "stdout",
     "output_type": "stream",
     "text": [
      "You called add_function(1, 2, 3)\n",
      "It returned: 6\n"
     ]
    }
   ],
   "source": [
    "## ⚡ Advanced Decorators with *args and **kwargs excercise.\n",
    "def logging_decorator(function):\n",
    "    def wrapper(*args):\n",
    "        list = [a for a in args]\n",
    "        b = f\"You called {function.__name__}({list})\"\n",
    "        print(b.replace(\"[\", \"\").replace(\"]\", \"\"))\n",
    "        print(f\"It returned: {function(args)}\")\n",
    "    return wrapper\n",
    "\n",
    "@logging_decorator\n",
    "def add_function(a: list):\n",
    "    return sum(a)\n",
    "\n",
    "add_function(1, 2, 3)"
   ]
  },
  {
   "cell_type": "code",
   "execution_count": null,
   "metadata": {},
   "outputs": [],
   "source": [
    "# 🚨 HTML & URL Parsing in Flask and the Higher Lower Game.\n",
    "import random\n",
    "from flask import Flask\n",
    "\n",
    "app = Flask(__name__)\n",
    "\n",
    "number = random.randint(0,9)\n",
    "\n",
    "wrong_gif =[\n",
    "    'https://media.giphy.com/media/hoaFB12CCE824/giphy.gif', \n",
    "    'https://media.giphy.com/media/uUvyQdPSl8dhu/giphy.gif', \n",
    "    'https://media.giphy.com/media/CM1rHbKDMH2BW/giphy.gif',\n",
    "    'https://media.giphy.com/media/1KBL6Wu9anosFYzCWw/giphy.gif',\n",
    "    'https://media.giphy.com/media/UIpzEC5QTvuOQ/giphy.gif',\n",
    "    'https://media.giphy.com/media/XgB1iZOFFkUXbOhNXt/giphy.gif',\n",
    "    'https://media.giphy.com/media/L5WQjD4p8IpO0/giphy.gif',\n",
    "    'https://media.giphy.com/media/gfsQffBnuc6e096brx/giphy.gif',\n",
    "    'https://media.giphy.com/media/TU76e2JHkPchG/giphy.gif'\n",
    "]\n",
    "\n",
    "@app.route('/')\n",
    "def hello_world():\n",
    "    return  '<h1>Guess a number between 0 and 9.</h1>' \\\n",
    "            '<img src=\"https://media.giphy.com/media/ZEfHV6pbn4Hr1XGGo3/giphy.gif\" width=\"400\">'\n",
    "\n",
    "@app.route('/<int:guess>')\n",
    "def guess_number(guess):\n",
    "    if guess < number:\n",
    "        return  '<h1 style=\"color:red\">Too low, try again!</h1>' \\\n",
    "                f'<img src=\"{random.choice(wrong_gif)}\" width=\"400\">'\n",
    "    elif guess > number:\n",
    "        return  '<h1 style=\"color:purple\">Too high, try again!</h1>' \\\n",
    "                f'<img src=\"{random.choice(wrong_gif)}\" width=\"400\">'\n",
    "    else:\n",
    "        return  '<h1 style=\"color:green\">Bingoooooo!</h1>' \\\n",
    "                '<img src=\"https://media.giphy.com/media/pHZdGyFNp5sUXq4jp5/giphy.gif\" width=\"400\">'\n",
    "\n",
    "if __name__ == '__main__':\n",
    "    app.run(debug=True)"
   ]
  },
  {
   "cell_type": "code",
   "execution_count": null,
   "metadata": {},
   "outputs": [],
   "source": [
    "## ⚡ put your html files in the templates directory and other files in the static directory."
   ]
  },
  {
   "cell_type": "code",
   "execution_count": null,
   "metadata": {},
   "outputs": [],
   "source": [
    "## ⚡ press \"shift + reload_button on Chrome\" to hard reload your browser and update your changes."
   ]
  }
 ],
 "metadata": {
  "kernelspec": {
   "display_name": "Python 3.9.7 ('base')",
   "language": "python",
   "name": "python3"
  },
  "language_info": {
   "codemirror_mode": {
    "name": "ipython",
    "version": 3
   },
   "file_extension": ".py",
   "mimetype": "text/x-python",
   "name": "python",
   "nbconvert_exporter": "python",
   "pygments_lexer": "ipython3",
   "version": "3.9.7"
  },
  "orig_nbformat": 4,
  "vscode": {
   "interpreter": {
    "hash": "d20d4eed201e135a92e4cffa48ff938af52352adb5646d0546e5d7d302dddd31"
   }
  }
 },
 "nbformat": 4,
 "nbformat_minor": 2
}
