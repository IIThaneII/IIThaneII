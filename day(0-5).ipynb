{
 "cells": [
  {
   "cell_type": "code",
   "execution_count": 5,
   "metadata": {},
   "outputs": [
    {
     "name": "stdout",
     "output_type": "stream",
     "text": [
      "The year 234 is: \n",
      "Not leap year.\n"
     ]
    }
   ],
   "source": [
    "# 🚨 Leap year checking 👇\n",
    "year = int(input(\"Which year do you want to check? \"))\n",
    "\n",
    "print(f\"The year {year} is: \")\n",
    "if year % 4 == 0:\n",
    "    if year % 100 == 0:\n",
    "        if year % 400 == 0:\n",
    "            print(\"Leap year.\")\n",
    "        else:\n",
    "            print(\"Not leap year.\")\n",
    "    else:\n",
    "        print(\"Leap year.\")\n",
    "else:\n",
    "    print(\"Not leap year.\")"
   ]
  },
  {
   "cell_type": "code",
   "execution_count": 10,
   "metadata": {},
   "outputs": [
    {
     "name": "stdout",
     "output_type": "stream",
     "text": [
      "Welcome to Python Pizza Deliveries!\n",
      "You ordered size S pizza with N add_pepperoni and Y add_pepperoni\n",
      "Your final bill is: $16.\n"
     ]
    }
   ],
   "source": [
    "# 🚨 Pizza Order Practice  👇\n",
    "print(\"Welcome to Python Pizza Deliveries!\")\n",
    "size = input(\"What size pizza do you want? S, M, or L \")\n",
    "add_pepperoni = input(\"Do you want pepperoni? Y or N \")\n",
    "extra_cheese = input(\"Do you want extra cheese? Y or N \")\n",
    "\n",
    "print(\"You ordered size \" + size + \" pizza with \" + add_pepperoni + \" add_pepperoni and \" + extra_cheese + \" add_pepperoni\")\n",
    "\n",
    "price = 0\n",
    "if size == \"S\":\n",
    "    price = 15\n",
    "    if add_pepperoni == \"Y\":\n",
    "        price += 2\n",
    "elif size == \"M\":\n",
    "    price = 20\n",
    "    if add_pepperoni == \"Y\":\n",
    "        price += 3\n",
    "elif size == \"L\":\n",
    "    price = 25\n",
    "    if add_pepperoni == \"Y\":\n",
    "        price += 3\n",
    "if extra_cheese == \"Y\":\n",
    "    price += 1\n",
    "print(f\"Your final bill is: ${price}.\")"
   ]
  },
  {
   "cell_type": "code",
   "execution_count": 2,
   "metadata": {},
   "outputs": [
    {
     "name": "stdout",
     "output_type": "stream",
     "text": [
      "With height = 1.76 and weight = 65.0\n",
      "Your BMI is 21, you have a normal weight.\n"
     ]
    }
   ],
   "source": [
    "# 🚨 BMI Caculator 👇\n",
    "height = float(input(\"enter your height in m: \"))\n",
    "weight = float(input(\"enter your weight in kg: \"))\n",
    "\n",
    "BMI = int(round(weight/(height**2), 0))\n",
    "print(f\"With height = {height} and weight = {weight}\")\n",
    "\n",
    "if BMI < 19:\n",
    "    print(f\"Your BMI is {BMI}, you are underweight.\")\n",
    "elif BMI <= 25:\n",
    "    print(f\"Your BMI is {BMI}, you have a normal weight.\")\n",
    "elif BMI <= 30:\n",
    "    print(f\"Your BMI is {BMI}, you are slightly overweight.\")\n",
    "elif BMI <= 35:\n",
    "    print(f\"Your BMI is {BMI}, you are obese.\")\n",
    "else:\n",
    "    print(f\"Your BMI is {BMI}, you are clinically obese.\")"
   ]
  },
  {
   "cell_type": "code",
   "execution_count": 3,
   "metadata": {},
   "outputs": [
    {
     "name": "stdout",
     "output_type": "stream",
     "text": [
      "Welcome to the tip calculator\n",
      "Each person should pay: $27.91\n"
     ]
    }
   ],
   "source": [
    "# 🚨 Tip Calcultor 👇\n",
    "print(\"Welcome to the tip calculator\")\n",
    "bill = float(input(\"What was the total bill? $\"))\n",
    "percentage = float(input(\"What percentage tip would you like to give? 10, 12, or 15? \"))\n",
    "pnum = float(input(\"How many people to split the bill? \"))\n",
    "pay = \"{:.2f}\".format((bill+(bill*percentage)/100)/pnum)\n",
    "\n",
    "print(f\"Each person should pay: ${pay}\")"
   ]
  },
  {
   "cell_type": "code",
   "execution_count": 2,
   "metadata": {},
   "outputs": [
    {
     "name": "stdout",
     "output_type": "stream",
     "text": [
      "Welcome to the Love Calculator!\n",
      "Your score is 57.\n"
     ]
    }
   ],
   "source": [
    "# 🚨 Love Caculator 👇\n",
    "print(\"Welcome to the Love Calculator!\")\n",
    "name1 = input(\"What is your name? \\n\")\n",
    "name2 = input(\"What is their name? \\n\")\n",
    "\n",
    "x = 0\n",
    "y = 0\n",
    "name1 = name1.lower()\n",
    "name2 = name2.lower()\n",
    "x = x + name1.count('t') + name1.count('r') + name1.count('u') + name1.count('e') + name2.count('t') + name2.count('r') + name2.count('u') + name2.count('e')\n",
    "y = y + name1.count('l') + name1.count('o') + name1.count('v') + name1.count('e') + name2.count('l') + name2.count('o') + name2.count('v') + name2.count('e')\n",
    "score = \"l\"\n",
    "score = str(x) + str(y)\n",
    "score = int(score)\n",
    "\n",
    "if score < 10 or score > 90:\n",
    "    print(f\"Your score is {score}, you go together like coke and mentos.\"\n",
    ") \n",
    "elif score > 40 and score < 50:\n",
    "    print(f\"Your score is {score}, you are alright together.\")\n",
    "else:\n",
    "    print(f\"Your score is {score}.\") "
   ]
  },
  {
   "cell_type": "code",
   "execution_count": 17,
   "metadata": {},
   "outputs": [
    {
     "name": "stdout",
     "output_type": "stream",
     "text": [
      "           \n",
      "           |)_(|\n",
      "    ______( 0 0 )______\n",
      "   |_/_/_/\\` ' `/\\_\\_\\_|\n",
      "           )'_'(\n",
      "      ____.\"\"_\"\".____\n"
     ]
    }
   ],
   "source": [
    "#https://ascii.co.uk/art\n",
    "print(\"\"\"           \n",
    "           |)_(|\n",
    "    ______( 0 0 )______\n",
    "   |_/_/_/\\` ' `/\\_\\_\\_|\n",
    "           )'_'(\n",
    "      ____.\"\"_\"\".____\"\"\")"
   ]
  },
  {
   "cell_type": "code",
   "execution_count": 2,
   "metadata": {},
   "outputs": [
    {
     "name": "stdout",
     "output_type": "stream",
     "text": [
      "['Thanh', 'Bac', 'Trung', 'Linh', 'Nhi']\n",
      "Thanh is going to buy the meal today!\n"
     ]
    }
   ],
   "source": [
    "import random\n",
    "# 🚨 Banker Roulette - Who will pay the bill? 👇\n",
    "\n",
    "# 🚨 Split string method\n",
    "names_string = input(\"Give me everybody's names, separated by a comma. \")\n",
    "names = names_string.split(\", \")\n",
    "\n",
    "ppay = len(names)\n",
    "randomPeople = random.randint(0, ppay-1)\n",
    "print(names)\n",
    "print(names[randomPeople] + \" is going to buy the meal today!\") "
   ]
  },
  {
   "cell_type": "code",
   "execution_count": 19,
   "metadata": {},
   "outputs": [
    {
     "name": "stdout",
     "output_type": "stream",
     "text": [
      "['Strawberries', 'Nectarines', 'Apples', 'Grapes', 'Peaches', 'Cherries', 'Pears']\n",
      "['Spinach', 'Kale', 'Tomatoes', 'Celery', 'Potatoes']\n",
      "Apples\n",
      "Celery\n"
     ]
    }
   ],
   "source": [
    "# How nested list work\n",
    "fruits = [\"Strawberries\", \"Nectarines\", \"Apples\", \"Grapes\", \"Peaches\", \"Cherries\", \"Pears\"]\n",
    "vegetables = [\"Spinach\", \"Kale\", \"Tomatoes\", \"Celery\", \"Potatoes\"]\n",
    " \n",
    "dirty_dozen = [fruits, vegetables]\n",
    "\n",
    "print(dirty_dozen[0])\n",
    "print(dirty_dozen[1])\n",
    "\n",
    "print(dirty_dozen[0][2])\n",
    "print(dirty_dozen[1][3])"
   ]
  },
  {
   "cell_type": "code",
   "execution_count": 22,
   "metadata": {},
   "outputs": [
    {
     "name": "stdout",
     "output_type": "stream",
     "text": [
      "['⬜', '⬜️', '⬜️']\n",
      "['⬜️', '⬜️', '⬜️']\n",
      "['⬜️', ' X ', '⬜️']\n"
     ]
    }
   ],
   "source": [
    "# 🚨 Treasure map 👇\n",
    "row1 = [\"⬜\", \"⬜️\", \"⬜️\"]\n",
    "row2 = [\"⬜️\", \"⬜️\", \"⬜️\"]\n",
    "row3 = [\"⬜️\", \"⬜️\", \"⬜️\"]\n",
    "map = [row1, row2, row3]\n",
    "position = input(\"Where do you want to put the treasure? \")\n",
    "\n",
    "col = position[1]\n",
    "row = position[0]\n",
    "col = int(col) - 1\n",
    "row =  int(row) - 1\n",
    "map[col][row] = \" X \"\n",
    "print(f\"{row1}\\n{row2}\\n{row3}\")"
   ]
  },
  {
   "cell_type": "code",
   "execution_count": 23,
   "metadata": {},
   "outputs": [
    {
     "name": "stdout",
     "output_type": "stream",
     "text": [
      "You chose: \n",
      "\n",
      "    _______\n",
      "---'   ____)\n",
      "      (_____)\n",
      "      (_____)\n",
      "      (____)\n",
      "---.__(___)\n",
      "\n",
      "\n",
      "Computer chose: \n",
      "\n",
      "    _______\n",
      "---'   ____)\n",
      "      (_____)\n",
      "      (_____)\n",
      "      (____)\n",
      "---.__(___)\n",
      "\n",
      "Draw!\n"
     ]
    }
   ],
   "source": [
    "# 🚨 Rock, paper, scissor game 👇\n",
    "import random\n",
    "\n",
    "rock = '''\n",
    "    _______\n",
    "---'   ____)\n",
    "      (_____)\n",
    "      (_____)\n",
    "      (____)\n",
    "---.__(___)\n",
    "'''\n",
    "\n",
    "paper = '''\n",
    "    _______\n",
    "---'   ____)____\n",
    "          ______)\n",
    "          _______)\n",
    "         _______)\n",
    "---.__________)\n",
    "'''\n",
    "\n",
    "scissors = '''\n",
    "    _______\n",
    "---'   ____)____\n",
    "          ______)\n",
    "       __________)\n",
    "      (____)\n",
    "---.__(___)\n",
    "'''\n",
    "\n",
    "a = int(input(\"What do you choose? Type 0 for Rock, 1 for Paper or 2 for Scissors.\"))\n",
    "\n",
    "b = random.randint(0, 2)\n",
    "\n",
    "print(\"You chose: \")\n",
    "if a == 0:\n",
    "  print(rock)\n",
    "elif a == 1:\n",
    "  print(paper)\n",
    "elif a == 2:\n",
    "  print(scissors)\n",
    "\n",
    "print(\"\\nComputer chose: \")\n",
    "if b == 0:\n",
    "  print(rock)\n",
    "elif b == 1:\n",
    "  print(paper)\n",
    "else:\n",
    "  print(scissors)\n",
    "\n",
    "if a > 2:\n",
    "  print(\"You input invalid number. You loose!\")\n",
    "elif a == 0 and b == 2:\n",
    "  print(\"You win!\")\n",
    "elif a == 1 and b == 0:\n",
    "  print(\"You win!\")\n",
    "elif a == 2 and b == 1:\n",
    "  print(\"You win!\")\n",
    "elif a == b:\n",
    "  print(\"Draw!\")\n",
    "else:\n",
    "  print(\"You loose!\")"
   ]
  },
  {
   "cell_type": "code",
   "execution_count": 24,
   "metadata": {},
   "outputs": [
    {
     "name": "stdout",
     "output_type": "stream",
     "text": [
      "[176, 165, 187, 156, 168]\n",
      "Average height is: 170\n"
     ]
    }
   ],
   "source": [
    "# 🚨 Loop to calculate average height 👇\n",
    "student_heights = input(\"Input a list of student heights \").split()\n",
    "for n in range(0, len(student_heights)):\n",
    "  student_heights[n] = int(student_heights[n])\n",
    "print(student_heights)\n",
    "\n",
    "total = 0\n",
    "num = 0\n",
    "for stu in student_heights:\n",
    "    total += stu\n",
    "    num += 1\n",
    "print(\"Average height is: \" + str(round(total/num)))"
   ]
  },
  {
   "cell_type": "code",
   "execution_count": 25,
   "metadata": {},
   "outputs": [
    {
     "name": "stdout",
     "output_type": "stream",
     "text": [
      "[78, 65, 89, 86, 55, 91, 64, 89]\n",
      "The highest score in the class is: 91\n"
     ]
    }
   ],
   "source": [
    "# 🚨 Highest score 👇\n",
    "student_scores = input(\"Input a list of student scores \").split()\n",
    "for n in range(0, len(student_scores)):\n",
    "  student_scores[n] = int(student_scores[n])\n",
    "print(student_scores)\n",
    "Max = 0\n",
    "for sco in student_scores:\n",
    "    if Max < sco:\n",
    "        Max = sco\n",
    "\n",
    "print(f\"The highest score in the class is: {Max}\")"
   ]
  },
  {
   "cell_type": "code",
   "execution_count": 27,
   "metadata": {},
   "outputs": [
    {
     "name": "stdout",
     "output_type": "stream",
     "text": [
      "2550\n",
      "2550\n"
     ]
    }
   ],
   "source": [
    "# Adding even numbers from 1 to 100\n",
    "total = 0\n",
    "for number in range(2, 101, 2):\n",
    "    total += number\n",
    "\n",
    "print(total)\n",
    "\n",
    "# Or\n",
    "total2 = 0\n",
    "for number2 in range(1, 101):\n",
    "    if number2 % 2 == 0:\n",
    "        total2 += number2\n",
    "\n",
    "print(total2)"
   ]
  },
  {
   "cell_type": "code",
   "execution_count": null,
   "metadata": {},
   "outputs": [],
   "source": [
    "# FizzBuzz game\n",
    "for number in range (1, 101):\n",
    "    if number % 3 == 0:\n",
    "        if number % 5 == 0:\n",
    "            print(\"FizzBuzz\")\n",
    "        else:\n",
    "            print(\"Fizz\")\n",
    "    elif number % 5 == 0:\n",
    "        print(\"Buzz\")\n",
    "    else:\n",
    "        print(number)"
   ]
  },
  {
   "cell_type": "code",
   "execution_count": 31,
   "metadata": {},
   "outputs": [
    {
     "name": "stdout",
     "output_type": "stream",
     "text": [
      "Welcome to the PyPassword Generator!\n",
      "Your password is: Qz*y6++1CIF0Et(!j\n"
     ]
    }
   ],
   "source": [
    "# 🚨 Password Generator Project 👇\n",
    "import random\n",
    "letters = ['a', 'b', 'c', 'd', 'e', 'f', 'g', 'h', 'i', 'j', 'k', 'l', 'm', 'n', 'o', 'p', 'q', 'r', 's', 't', 'u', 'v', 'w', 'x', 'y', 'z', 'A', 'B', 'C', 'D', 'E', 'F', 'G', 'H', 'I', 'J', 'K', 'L', 'M', 'N', 'O', 'P', 'Q', 'R', 'S', 'T', 'U', 'V', 'W', 'X', 'Y', 'Z']\n",
    "numbers = ['0', '1', '2', '3', '4', '5', '6', '7', '8', '9']\n",
    "symbols = ['!', '#', '$', '%', '&', '(', ')', '*', '+']\n",
    "\n",
    "print(\"Welcome to the PyPassword Generator!\")\n",
    "nr_letters= int(input(\"How many letters would you like in your password?\\n\")) \n",
    "nr_symbols = int(input(f\"How many symbols would you like?\\n\"))\n",
    "nr_numbers = int(input(f\"How many numbers would you like?\\n\"))\n",
    "\n",
    "l_letters = len(letters)\n",
    "password = []\n",
    "for x in range(1, nr_letters + 1):\n",
    "  password.append(letters[random.randint(0, l_letters-1)])\n",
    "for x in range(1, nr_symbols + 1):\n",
    "  password.append(symbols[random.randint(0, 8)])\n",
    "for x in range(1, nr_numbers + 1):\n",
    "  password.append(numbers[random.randint(0, 9)])\n",
    "  \n",
    "random.shuffle(password)\n",
    "str1 = \"\"   \n",
    "for char in password: \n",
    "  str1 += char   \n",
    "print(\"Your password is: \" + str1)"
   ]
  }
 ],
 "metadata": {
  "interpreter": {
   "hash": "d20d4eed201e135a92e4cffa48ff938af52352adb5646d0546e5d7d302dddd31"
  },
  "kernelspec": {
   "display_name": "Python 3.9.7 ('base')",
   "language": "python",
   "name": "python3"
  },
  "language_info": {
   "codemirror_mode": {
    "name": "ipython",
    "version": 3
   },
   "file_extension": ".py",
   "mimetype": "text/x-python",
   "name": "python",
   "nbconvert_exporter": "python",
   "pygments_lexer": "ipython3",
   "version": "3.9.7"
  },
  "orig_nbformat": 4
 },
 "nbformat": 4,
 "nbformat_minor": 2
}
