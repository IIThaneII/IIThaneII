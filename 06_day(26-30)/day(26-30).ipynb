{
 "cells": [
  {
   "cell_type": "code",
   "execution_count": 1,
   "metadata": {},
   "outputs": [
    {
     "name": "stdout",
     "output_type": "stream",
     "text": [
      "[2, 3, 4]\n"
     ]
    }
   ],
   "source": [
    "# List comprehension\n",
    "# new_list = [new_item for item in list]\n",
    "numbers = [1, 2, 3]\n",
    "new_list = []\n",
    "for n in numbers:\n",
    "    add_1 = n + 1\n",
    "    new_list.append(add_1)\n",
    "print(new_list)"
   ]
  },
  {
   "cell_type": "code",
   "execution_count": 2,
   "metadata": {},
   "outputs": [
    {
     "name": "stdout",
     "output_type": "stream",
     "text": [
      "[2, 3, 4]\n"
     ]
    }
   ],
   "source": [
    "# The code above equal to:\n",
    "numbers = [1, 2, 3]\n",
    "new_list = [n + 1 for n in numbers]\n",
    "print(new_list)"
   ]
  },
  {
   "cell_type": "code",
   "execution_count": 3,
   "metadata": {},
   "outputs": [
    {
     "name": "stdout",
     "output_type": "stream",
     "text": [
      "['T', 'h', 'a', 'n', 'e']\n"
     ]
    }
   ],
   "source": [
    "# List comprehension works with string too\n",
    "name = \"Thane\"\n",
    "new_list = [letter for letter in name]\n",
    "print(new_list)\n",
    "# Sequences that work with list comprehension:\n",
    "# list, range, string, tuple"
   ]
  },
  {
   "cell_type": "code",
   "execution_count": 4,
   "metadata": {},
   "outputs": [
    {
     "name": "stdout",
     "output_type": "stream",
     "text": [
      "[2, 4, 6, 8]\n"
     ]
    }
   ],
   "source": [
    "# List comprehension with range\n",
    "new_list = [i*2 for i in range(1,5)]\n",
    "print(new_list)"
   ]
  },
  {
   "cell_type": "code",
   "execution_count": 8,
   "metadata": {},
   "outputs": [
    {
     "name": "stdout",
     "output_type": "stream",
     "text": [
      "['Alex', 'Beth', 'Dave']\n",
      "['CAROLINE', 'ELEANOR', 'FREDDIE']\n"
     ]
    }
   ],
   "source": [
    "# Conditional list comprehension\n",
    "# new_list = [new_item for item in list if test]\n",
    "names = ['Alex', 'Beth', 'Caroline', 'Dave', 'Eleanor', 'Freddie']\n",
    "short_names = [name for name in names if len(name) < 5]\n",
    "print(short_names)\n",
    "long_names = [name.upper() for name in names if len(name) > 5]\n",
    "print(long_names)"
   ]
  },
  {
   "cell_type": "code",
   "execution_count": 11,
   "metadata": {},
   "outputs": [
    {
     "name": "stdout",
     "output_type": "stream",
     "text": [
      "[1, 1, 4, 9, 25, 64, 169, 441, 1156, 3025]\n"
     ]
    }
   ],
   "source": [
    "# 🚨 Squared numbers\n",
    "numbers = [1, 1, 2, 3, 5, 8, 13, 21, 34, 55]\n",
    "squared_numbers = [num**2 for num in numbers]\n",
    "print(squared_numbers)"
   ]
  },
  {
   "cell_type": "code",
   "execution_count": 12,
   "metadata": {},
   "outputs": [
    {
     "name": "stdout",
     "output_type": "stream",
     "text": [
      "[2, 8, 34]\n"
     ]
    }
   ],
   "source": [
    "# 🚨 Even numbers\n",
    "numbers = [1, 1, 2, 3, 5, 8, 13, 21, 34, 55]\n",
    "result = [num for num in numbers if num %2 == 0]\n",
    "print(result)"
   ]
  },
  {
   "cell_type": "code",
   "execution_count": null,
   "metadata": {},
   "outputs": [],
   "source": [
    "# 🚨 Data overlap\n",
    "with open(\"/Users/ez/OneDrive/Máy tính/codeprojects/PYTHON/100_days_of_Py/6_day(26-30)/data_overlap/file1.txt\") as f1:\n",
    "    a = [int(num) for num in f1.readlines()]\n",
    "with open(\"/Users/ez/OneDrive/Máy tính/codeprojects/PYTHON/100_days_of_Py/6_day(26-30)/data_overlap/file2.txt\") as f2:\n",
    "    b = [int(num) for num in f2.readlines()]\n",
    "\n",
    "c = [num for num in a if num in b]\n",
    "print(c)"
   ]
  },
  {
   "cell_type": "code",
   "execution_count": 22,
   "metadata": {},
   "outputs": [
    {
     "name": "stdout",
     "output_type": "stream",
     "text": [
      "{'Alex': 91, 'Beth': 34, 'Caroline': 68, 'Dave': 28, 'Eleanor': 2, 'Freddie': 69}\n",
      "{'Alex': 91, 'Caroline': 68, 'Freddie': 69}\n"
     ]
    }
   ],
   "source": [
    "# Dictionary comprehension\n",
    "# new_dict = {new_key:new_value for item in list}\n",
    "names = ['Alex', 'Beth', 'Caroline', 'Dave', 'Eleanor', 'Freddie']\n",
    "import random\n",
    "student_scores = {student:random.randint(0,100) for student in names}\n",
    "print(student_scores)\n",
    "# new_dict = {new_key:new_value for (key, value) in dict_items()}\n",
    "# Conditional dictionary comprehension\n",
    "# new_dict = {new_key:new_value for (key, value) in dict_items() if test}\n",
    "pass_students = {stu:sco for (stu, sco) in student_scores.items() if sco >= 60}\n",
    "print(pass_students)"
   ]
  },
  {
   "cell_type": "code",
   "execution_count": 2,
   "metadata": {},
   "outputs": [
    {
     "name": "stdout",
     "output_type": "stream",
     "text": [
      "{'What': 4, 'is': 2, 'the': 3, 'Airspeed': 8, 'Velocity': 8, 'of': 2, 'an': 2, 'Unladen': 7, 'Swallow?': 8}\n"
     ]
    }
   ],
   "source": [
    "# Dictionary comprehension exersise 1\n",
    "sentence = \"What is the Airspeed Velocity of an Unladen Swallow?\"\n",
    "a = sentence.split()\n",
    "result = {word:len(word) for word in a}\n",
    "print(result)"
   ]
  },
  {
   "cell_type": "code",
   "execution_count": 1,
   "metadata": {},
   "outputs": [
    {
     "name": "stdout",
     "output_type": "stream",
     "text": [
      "{'Monday': 53.6, 'Tuesday': 57.2, 'Wednesday': 59.0, 'Thursday': 57.2, 'Friday': 69.80000000000001, 'Saturday': 71.6, 'Sunday': 75.2}\n"
     ]
    }
   ],
   "source": [
    "weather_c = {\n",
    "    \"Monday\": 12,\n",
    "    \"Tuesday\": 14,\n",
    "    \"Wednesday\": 15,\n",
    "    \"Thursday\": 14,\n",
    "    \"Friday\": 21,\n",
    "    \"Saturday\": 22,\n",
    "    \"Sunday\": 24,\n",
    "}\n",
    "weather_f = {day:((temp * 1.8) + 32) for (day,temp) in weather_c.items()}\n",
    "print(weather_f)"
   ]
  },
  {
   "cell_type": "code",
   "execution_count": 2,
   "metadata": {},
   "outputs": [
    {
     "name": "stdout",
     "output_type": "stream",
     "text": [
      "['Thane', 'Angela', 'James']\n",
      "student\n",
      "[90, 78, 67]\n",
      "score\n"
     ]
    }
   ],
   "source": [
    "# Loop through dictionary\n",
    "student_dict = {\n",
    "    \"student\": [\"Thane\", \"Angela\", \"James\"],\n",
    "    \"score\": [90, 78, 67],\n",
    "}\n",
    "for (key,value) in student_dict.items():\n",
    "    print(value)\n",
    "    print(key)"
   ]
  },
  {
   "cell_type": "code",
   "execution_count": 15,
   "metadata": {},
   "outputs": [
    {
     "name": "stdout",
     "output_type": "stream",
     "text": [
      "  student  score\n",
      "0   Thane     90\n",
      "1  Angela     78\n",
      "2   James     67\n",
      "=========================\n",
      "0     Thane\n",
      "1    Angela\n",
      "2     James\n",
      "Name: student, dtype: object\n",
      "0    90\n",
      "1    78\n",
      "2    67\n",
      "Name: score, dtype: int64\n",
      "=========================\n",
      "student    Thane\n",
      "score         90\n",
      "Name: 0, dtype: object\n",
      "student    Angela\n",
      "score          78\n",
      "Name: 1, dtype: object\n",
      "student    James\n",
      "score         67\n",
      "Name: 2, dtype: object\n",
      "=========================\n",
      "Thane\n",
      "Angela\n",
      "James\n"
     ]
    }
   ],
   "source": [
    "# Loop through the dataframe\n",
    "import pandas\n",
    "student_dict = {\n",
    "    \"student\": [\"Thane\", \"Angela\", \"James\"],\n",
    "    \"score\": [90, 78, 67],\n",
    "}\n",
    "student_data_frame = pandas.DataFrame(student_dict)\n",
    "print(student_data_frame)\n",
    "print(\"=========================\")\n",
    "for (key, value) in student_data_frame.items():\n",
    "    print(value)\n",
    "# Loop through rows of a dataframe\n",
    "print(\"=========================\")\n",
    "for (index, row) in student_data_frame.iterrows():\n",
    "    print(row)\n",
    "print(\"=========================\")\n",
    "for (index, row) in student_data_frame.iterrows():\n",
    "    print(row.student)"
   ]
  },
  {
   "cell_type": "code",
   "execution_count": 16,
   "metadata": {},
   "outputs": [
    {
     "name": "stdout",
     "output_type": "stream",
     "text": [
      "['Tango', 'Hotel', 'Alfa', 'November', 'Echo']\n"
     ]
    }
   ],
   "source": [
    "# 🚨 NATO Alphabet\n",
    "import pandas\n",
    "data = pandas.read_csv(\"/Users/ez/OneDrive/Máy tính/codeprojects/PYTHON/100_days_of_Py/6_day(26-30)/NATO_alphabet/nato_phonetic_alphabet.csv\")\n",
    "\n",
    "data_dict = {row.letter:row.code for (index, row) in data.iterrows()}\n",
    "name = input(\"What's your name?: \").upper()\n",
    "a = [data_dict[f\"{letter}\"] for letter in name]\n",
    "print(a)"
   ]
  },
  {
   "cell_type": "code",
   "execution_count": 1,
   "metadata": {},
   "outputs": [
    {
     "name": "stdout",
     "output_type": "stream",
     "text": [
      "1 4 6\n"
     ]
    }
   ],
   "source": [
    "# Function with default values\n",
    "def foo(a, b=4, c=6): \n",
    "    print(a, b, c)\n",
    " \n",
    "foo(1)"
   ]
  },
  {
   "cell_type": "code",
   "execution_count": 2,
   "metadata": {},
   "outputs": [
    {
     "name": "stdout",
     "output_type": "stream",
     "text": [
      "20 4 6\n"
     ]
    }
   ],
   "source": [
    "def foo(a, b=4, c=6):\n",
    "    print(a, b, c)\n",
    " \n",
    "foo(20, c=6)"
   ]
  },
  {
   "cell_type": "code",
   "execution_count": 3,
   "metadata": {},
   "outputs": [
    {
     "name": "stdout",
     "output_type": "stream",
     "text": [
      "1 7 9\n"
     ]
    }
   ],
   "source": [
    "def foo(a, b=4, c=6): \n",
    "    print(a, b, c)\n",
    " \n",
    "foo(1, 7, 9)"
   ]
  },
  {
   "cell_type": "code",
   "execution_count": 4,
   "metadata": {},
   "outputs": [
    {
     "name": "stdout",
     "output_type": "stream",
     "text": [
      "45\n"
     ]
    }
   ],
   "source": [
    "# *args: Many Positional Arguments\n",
    "def add(*num): # add all inputs into a tuple => can call num[2] = 3\n",
    "    a = sum(num)\n",
    "    print(a)\n",
    "\n",
    "add(1, 2, 3, 4, 5, 6, 7, 8, 9)"
   ]
  },
  {
   "cell_type": "code",
   "execution_count": 5,
   "metadata": {},
   "outputs": [
    {
     "name": "stdout",
     "output_type": "stream",
     "text": [
      "20\n"
     ]
    }
   ],
   "source": [
    "# **kwargs: Many Keyword Arguments\n",
    "# Turn all inputs into a dictionary\n",
    "def calculate(n, **kwargs):\n",
    "    n += kwargs[\"add\"]\n",
    "    n *= kwargs[\"mult\"]\n",
    "    print(n)\n",
    "\n",
    "calculate(2, add= 8, mult= 2)"
   ]
  },
  {
   "cell_type": "code",
   "execution_count": 2,
   "metadata": {},
   "outputs": [
    {
     "name": "stdout",
     "output_type": "stream",
     "text": [
      "Nissan\n",
      "None\n"
     ]
    }
   ],
   "source": [
    "class Car:\n",
    "    def __init__(self, **kw):\n",
    "        self.make = kw.get(\"make\") # the get() function is used to create argument with no require input\n",
    "        self.model = kw.get(\"model\")\n",
    "        self.colour = kw.get(\"colour\")\n",
    "        self.seats = kw.get(\"seats\")\n",
    "\n",
    "my_car = Car(make=\"Nissan\", model=\"GT-X4\", colour=\"black\")\n",
    "print(my_car.make)\n",
    "print(my_car.seats)"
   ]
  },
  {
   "cell_type": "code",
   "execution_count": 3,
   "metadata": {},
   "outputs": [
    {
     "name": "stdout",
     "output_type": "stream",
     "text": [
      "4 (7, 3, 0) {'x': 10, 'y': 64}\n"
     ]
    }
   ],
   "source": [
    "# Test\n",
    "def all_aboard(a, *args, **kw): \n",
    "    print(a, args, kw)\n",
    " \n",
    "all_aboard(4, 7, 3, 0, x=10, y=64)"
   ]
  },
  {
   "cell_type": "code",
   "execution_count": null,
   "metadata": {},
   "outputs": [],
   "source": [
    "# 🚨 Tkinter start\n",
    "from tkinter import *\n",
    "\n",
    "#Creating a new window and configurations\n",
    "window = Tk()\n",
    "window.title(\"Widget Examples\")\n",
    "window.minsize(width=500, height=500)\n",
    "\n",
    "#Labels\n",
    "label = Label(text=\"This is old text\")\n",
    "label.config(text=\"This is new text\")\n",
    "label.pack()\n",
    "\n",
    "#Buttons\n",
    "def action():\n",
    "    print(\"Do something\")\n",
    "\n",
    "#calls action() when pressed\n",
    "button = Button(text=\"Click Me\", command=action)\n",
    "button.pack()\n",
    "\n",
    "#Entries\n",
    "entry = Entry(width=30)\n",
    "#Add some text to begin with\n",
    "entry.insert(END, string=\"Some text to begin with.\")\n",
    "#Gets text in entry\n",
    "print(entry.get())\n",
    "entry.pack()\n",
    "\n",
    "#Text\n",
    "text = Text(height=5, width=30)\n",
    "#Puts cursor in textbox.\n",
    "text.focus()\n",
    "#Adds some text to begin with.\n",
    "text.insert(END, \"Example of multi-line text entry.\")\n",
    "#Get's current value in textbox at line 1, character 0\n",
    "print(text.get(\"1.0\", END))\n",
    "text.pack()\n",
    "\n",
    "#Spinbox\n",
    "def spinbox_used():\n",
    "    #gets the current value in spinbox.\n",
    "    print(spinbox.get())\n",
    "spinbox = Spinbox(from_=0, to=10, width=5, command=spinbox_used)\n",
    "spinbox.pack()\n",
    "\n",
    "#Scale\n",
    "#Called with current scale value.\n",
    "def scale_used(value):\n",
    "    print(value)\n",
    "scale = Scale(from_=0, to=100, command=scale_used)\n",
    "scale.pack()\n",
    "\n",
    "#Checkbutton\n",
    "def checkbutton_used():\n",
    "    #Prints 1 if On button checked, otherwise 0.\n",
    "    print(checked_state.get())\n",
    "#variable to hold on to checked state, 0 is off, 1 is on.\n",
    "checked_state = IntVar()\n",
    "checkbutton = Checkbutton(text=\"Is On?\", variable=checked_state, command=checkbutton_used)\n",
    "checked_state.get()\n",
    "checkbutton.pack()\n",
    "\n",
    "#Radiobutton\n",
    "def radio_used():\n",
    "    print(radio_state.get())\n",
    "#Variable to hold on to which radio button value is checked.\n",
    "radio_state = IntVar()\n",
    "radiobutton1 = Radiobutton(text=\"Option1\", value=1, variable=radio_state, command=radio_used)\n",
    "radiobutton2 = Radiobutton(text=\"Option2\", value=2, variable=radio_state, command=radio_used)\n",
    "radiobutton1.pack()\n",
    "radiobutton2.pack()\n",
    "\n",
    "\n",
    "#Listbox\n",
    "def listbox_used(event):\n",
    "    # Gets current selection from listbox\n",
    "    print(listbox.get(listbox.curselection()))\n",
    "\n",
    "listbox = Listbox(height=4)\n",
    "fruits = [\"Apple\", \"Pear\", \"Orange\", \"Banana\"]\n",
    "for item in fruits:\n",
    "    listbox.insert(fruits.index(item), item)\n",
    "listbox.bind(\"<<ListboxSelect>>\", listbox_used)\n",
    "listbox.pack()\n",
    "window.mainloop()"
   ]
  },
  {
   "cell_type": "code",
   "execution_count": null,
   "metadata": {},
   "outputs": [],
   "source": [
    "# Pack(), Place() and Grid() functions\n",
    "# Pack(side=\"left\",\"bottom\",...)\n",
    "# Place(x=0, y=0) put the element in coordinate \n",
    "# Grid(column=0, row=0) put the element in grid (easier to compute)"
   ]
  },
  {
   "cell_type": "code",
   "execution_count": null,
   "metadata": {},
   "outputs": [],
   "source": [
    "# 🚨 Mile to KM converter\n",
    "from tkinter import *\n",
    "\n",
    "window = Tk()\n",
    "window.title(\"Miles to Kilometers converter\")\n",
    "window.minsize(width=250, height=130)\n",
    "window.config(padx=20, pady=20) # add padding to the window\n",
    "\n",
    "def calculate():\n",
    "    a = input.get()\n",
    "    l4[\"text\"] = round(float(a)*1.61, 2)\n",
    "\n",
    "input = Entry(width=10)\n",
    "input.grid(row=0, column=2)\n",
    "input.insert(END, string=\"0\")\n",
    "\n",
    "l1 = Label(text=\"Miles\", font=(15))\n",
    "l1.grid(row=0, column=3)\n",
    "\n",
    "l2 = Label(text=\"is equal to\", font=(15))\n",
    "l2.grid(row=1, column=0)\n",
    "\n",
    "l3 = Label(text=\"Km\", font=(15))\n",
    "l3.grid(row=1, column=3)\n",
    "\n",
    "l4 = Label(text=\"0\", font=(15))\n",
    "l4.grid(row=1, column=2)\n",
    "\n",
    "button = Button(text=\"Calculate\", font=(15), command=calculate)\n",
    "button.grid(row=2, column=2)\n",
    "\n",
    "window.mainloop()"
   ]
  },
  {
   "cell_type": "code",
   "execution_count": null,
   "metadata": {},
   "outputs": [],
   "source": [
    "# 🚨 Poromodo project\n",
    "from tkinter import *\n",
    "\n",
    "# ---------------------------- CONSTANTS ------------------------------- #\n",
    "\n",
    "PINK = \"#e2979c\"\n",
    "RED = \"#e7305b\"\n",
    "GREEN = \"#9bdeac\"\n",
    "YELLOW = \"#f7f5dd\"\n",
    "FONT_NAME = \"Courier\"\n",
    "WORK_MIN = 25\n",
    "SHORT_BREAK_MIN = 5\n",
    "LONG_BREAK_MIN = 20\n",
    "reps = 0\n",
    "timer = None\n",
    "\n",
    "# ---------------------------- TIMER RESET ------------------------------- # \n",
    "\n",
    "def reset_timer():\n",
    "    window.after_cancel(timer)\n",
    "    canvas.itemconfig(timer_text, text=\"00:00\")\n",
    "    title_label.config(text=\"Timer\")\n",
    "    check_marks.config(text=\"\")\n",
    "    global reps\n",
    "    reps = 0\n",
    "\n",
    "# ---------------------------- TIMER MECHANISM ------------------------------- # \n",
    "\n",
    "def start_timer():\n",
    "    global reps\n",
    "    reps += 1\n",
    "\n",
    "    work_sec = WORK_MIN * 60\n",
    "    short_break_sec = SHORT_BREAK_MIN * 60\n",
    "    long_break_sec = LONG_BREAK_MIN * 60\n",
    "\n",
    "    if reps % 8 == 0:\n",
    "        count_down(long_break_sec)\n",
    "        title_label.config(text=\"Break\", fg=RED)\n",
    "    elif reps % 2 == 0:\n",
    "        count_down(short_break_sec)\n",
    "        title_label.config(text=\"Break\", fg=PINK)\n",
    "    else:\n",
    "        count_down(work_sec)\n",
    "        title_label.config(text=\"Work\", fg=GREEN)\n",
    "\n",
    "# ---------------------------- COUNTDOWN MECHANISM ------------------------------- #\n",
    "\n",
    "def count_down(count):\n",
    "\n",
    "    count_min = int(count / 60)\n",
    "    count_sec = count % 60\n",
    "    if count_sec < 10:\n",
    "        count_sec = f\"0{count_sec}\"\n",
    "\n",
    "    canvas.itemconfig(timer_text, text=f\"{count_min}:{count_sec}\")\n",
    "    if count > 0:\n",
    "        global timer\n",
    "        timer = window.after(1, count_down, count - 1)\n",
    "    else:\n",
    "        start_timer()\n",
    "        marks = \"\"\n",
    "        work_sessions = int(reps/2)\n",
    "        for _ in range(work_sessions):\n",
    "            marks += \"✔\"\n",
    "        check_marks.config(text=marks)\n",
    "\n",
    "# ---------------------------- UI SETUP ------------------------------- #\n",
    "window = Tk()\n",
    "window.title(\"Pomodoro\")\n",
    "window.config(padx=100, pady=50, bg=YELLOW)\n",
    "\n",
    "title_label = Label(text=\"Timer\", fg=GREEN, bg=YELLOW, font=(FONT_NAME, 50))\n",
    "title_label.grid(column=1, row=0)\n",
    "\n",
    "canvas = Canvas(width=200, height=224, bg=YELLOW, highlightthickness=0)\n",
    "tomato_img = PhotoImage(file=\"/Users/ez/OneDrive/Máy tính/codeprojects/PYTHON/100_days_of_Py/6_day(26-30)/pomodoro/tomato.png\")\n",
    "canvas.create_image(100, 112, image=tomato_img)\n",
    "timer_text = canvas.create_text(100, 130, text=\"00:00\", fill=\"white\", font=(FONT_NAME, 35, \"bold\"))\n",
    "canvas.grid(column=1, row=1)\n",
    "\n",
    "start_button = Button(text=\"Start\", highlightthickness=0, command=start_timer)\n",
    "start_button.grid(column=0, row=2)\n",
    "\n",
    "reset_button = Button(text=\"Reset\", highlightthickness=0, command=reset_timer)\n",
    "reset_button.grid(column=2, row=2)\n",
    "\n",
    "check_marks = Label(fg=GREEN, bg=YELLOW)\n",
    "check_marks.grid(column=1, row=3)\n",
    "\n",
    "window.mainloop()"
   ]
  },
  {
   "cell_type": "code",
   "execution_count": 1,
   "metadata": {},
   "outputs": [],
   "source": [
    "from tkinter import *\n",
    "\n",
    "win = Tk()\n",
    "win.geometry(\"700x250\")\n",
    "\n",
    "#Define a function to clear the content of the text widget\n",
    "def click(event):\n",
    "   name.configure(state=NORMAL)\n",
    "   name.delete(0, END)\n",
    "   name.unbind('<Button-1>', clicked)\n",
    "\n",
    "label = Label(win, text= \"Enter Your Name\", font= ('Helvetica 13 bold'))\n",
    "label.pack(pady= 10)\n",
    "\n",
    "name = Entry(win, width=45)\n",
    "name.insert(0, 'Enter Your Name Here...')\n",
    "name.pack(pady=10)\n",
    "\n",
    "#Bind the Entry widget with Mouse Button to clear the content\n",
    "clicked = name.bind('<Button-1>', click)\n",
    "win.mainloop()"
   ]
  },
  {
   "cell_type": "code",
   "execution_count": null,
   "metadata": {},
   "outputs": [],
   "source": [
    "# 🚨 Password manager\n",
    "from tkinter import *\n",
    "from tkinter import messagebox\n",
    "import random\n",
    "import pyperclip\n",
    "\n",
    "# ---------------------------- PASSWORD GENERATOR ------------------------------- #\n",
    "#Password Generator Project\n",
    "def generate_password():\n",
    "    e_pass.delete(0, END)\n",
    "    letters = ['a', 'b', 'c', 'd', 'e', 'f', 'g', 'h', 'i', 'j', 'k', 'l', 'm', 'n', 'o', 'p', 'q', 'r', 's', 't', 'u', 'v', 'w', 'x', 'y', 'z', 'A', 'B', 'C', 'D', 'E', 'F', 'G', 'H', 'I', 'J', 'K', 'L', 'M', 'N', 'O', 'P', 'Q', 'R', 'S', 'T', 'U', 'V', 'W', 'X', 'Y', 'Z']\n",
    "    numbers = ['0', '1', '2', '3', '4', '5', '6', '7', '8', '9']\n",
    "    symbols = ['!', '#', '$', '%', '&', '(', ')', '*', '+']\n",
    "\n",
    "    nr_letters = random.randint(8, 10)\n",
    "    nr_symbols = random.randint(2, 4)\n",
    "    nr_numbers = random.randint(2, 4)\n",
    "\n",
    "    password_list = [random.choice(letters) for i in range(nr_letters)]\n",
    "    password_list += [random.choice(symbols) for i in range(nr_symbols)]\n",
    "    password_list += [random.choice(numbers) for i in range(nr_numbers)]\n",
    "\n",
    "    random.shuffle(password_list)\n",
    "\n",
    "    password = \"\".join(password_list)\n",
    "    e_pass.insert(END, password)\n",
    "    pyperclip.copy(password) # copy your password into your clipboard instantly\n",
    "# ---------------------------- SAVE PASSWORD ------------------------------- #\n",
    "def save():\n",
    "    with open(\"/Users/ez/OneDrive/Máy tính/codeprojects/PYTHON/100_days_of_Py/6_day(26-30)/password_manager/data.txt\", mode=\"a\") as data:\n",
    "        e = e_email.get()\n",
    "        w = e_website.get()\n",
    "        p = e_pass.get()\n",
    "\n",
    "        if p == \"\" or e == \"\":\n",
    "            messagebox.showwarning(title=\"Erorr\", message=\"Please enter your email address and password\")\n",
    "            return\n",
    "\n",
    "        is_ok = messagebox.askokcancel(title=\"Check\", message=\"Are you sure you want to save this data?\")\n",
    "        if is_ok:\n",
    "            data.write(f\"{w} | {e} | {p}\\n\")\n",
    "            e_website.delete(0, END)\n",
    "            e_pass.delete(0, END)\n",
    "# ---------------------------- UI SETUP ------------------------------- #\n",
    "window = Tk()\n",
    "window.title(\"Password Manager\")\n",
    "window.config(padx=50, pady=50)\n",
    "\n",
    "canvas =  Canvas(width=200, height=200)\n",
    "logo = PhotoImage(file=\"/Users/ez/OneDrive/Máy tính/codeprojects/PYTHON/100_days_of_Py/6_day(26-30)/password_manager/logo.png\")\n",
    "canvas.create_image(100, 100, image=logo)\n",
    "canvas.grid(column=1, row=0)\n",
    "\n",
    "l_website = Label(text=\"Website:\")\n",
    "l_website.grid(column=0, row=1)\n",
    "l_email = Label(text=\"Email/Username:\")\n",
    "l_email.grid(column=0, row=2)\n",
    "l_pass = Label(text=\"Password:\")\n",
    "l_pass.grid(column=0, row=3)\n",
    "\n",
    "e_website = Entry(width=51)\n",
    "e_website.grid(column=1, row=1, columnspan=2)\n",
    "e_website.focus()\n",
    "e_email = Entry(width=51)\n",
    "e_email.grid(column=1, row=2, columnspan=2)\n",
    "e_email.insert(END, \"nguyenngocthanh13022003@gmail.com\")\n",
    "e_pass = Entry(width=33)\n",
    "e_pass.grid(column=1, row=3)\n",
    "\n",
    "b_gen_pass = Button(text=\"Generate Password\", command=generate_password)\n",
    "b_gen_pass.grid(column=2, row=3)\n",
    "b_add = Button(text=\"Add\", width=43, command=save)\n",
    "b_add.grid(column=1, row=4, columnspan=2)\n",
    "\n",
    "window.mainloop()"
   ]
  },
  {
   "cell_type": "code",
   "execution_count": null,
   "metadata": {},
   "outputs": [],
   "source": [
    "# Raising perception\n",
    "# FileNotFound\n",
    "with open(\"a_file.txt\", \"r\") as file:\n",
    "    file.read()\n",
    "\n",
    "# KeyError\n",
    "a_dictionary = {\"key\": \"value\"}\n",
    "value = a_dictionary[\"non_existent_key\"]\n",
    "\n",
    "#IndexError\n",
    "fruits = [\"Apple\", \"Banana\", \"Peach\"]\n",
    "fruit = fruits[3]\n",
    "\n",
    "# TypeError\n",
    "text = \"abc\"\n",
    "print(text + 5)"
   ]
  },
  {
   "cell_type": "code",
   "execution_count": 3,
   "metadata": {},
   "outputs": [
    {
     "name": "stdout",
     "output_type": "stream",
     "text": [
      "The key 'ads' does not exist.\n",
      "File was closed.\n"
     ]
    }
   ],
   "source": [
    "try:  # Something that might cause an exception\n",
    "    file =  open(\"a.txt\")\n",
    "    a_dictionary = {\"key\": \"value\"}\n",
    "    print(a_dictionary[\"ads\"])\n",
    "except FileNotFoundError:  # Do this if there was an exception\n",
    "    file = open(\"a.txt\", \"w\")\n",
    "    file.write(\"something\")\n",
    "except KeyError as erorr_message:\n",
    "    print(f\"The key {erorr_message} does not exist.\")\n",
    "else:  # Do this if there were no exceptions\n",
    "    content = file.read()\n",
    "    print(content)\n",
    "finally:  # Do this no matter what happens\n",
    "    file.close()\n",
    "    print(\"File was closed.\")"
   ]
  },
  {
   "cell_type": "code",
   "execution_count": 4,
   "metadata": {},
   "outputs": [
    {
     "name": "stdout",
     "output_type": "stream",
     "text": [
      "86\n"
     ]
    }
   ],
   "source": [
    "# Sometimes your dictionary missing some values\n",
    "facebook_posts = [\n",
    "    {'Likes': 21, 'Comments': 2}, \n",
    "    {'Likes': 13, 'Comments': 2, 'Shares': 1}, \n",
    "    {'Likes': 33, 'Comments': 8, 'Shares': 3}, \n",
    "    {'Comments': 4, 'Shares': 2}, \n",
    "    {'Comments': 1, 'Shares': 1}, \n",
    "    {'Likes': 19, 'Comments': 3}\n",
    "]\n",
    "\n",
    "total_likes = 0\n",
    "\n",
    "for post in facebook_posts:\n",
    "    try:\n",
    "        total_likes = total_likes + post['Likes']\n",
    "    except KeyError: \n",
    "        total_likes += 0\n",
    "\n",
    "print(total_likes)"
   ]
  },
  {
   "cell_type": "code",
   "execution_count": 5,
   "metadata": {},
   "outputs": [
    {
     "ename": "ValueError",
     "evalue": "Human Height should not be over 3 meters.",
     "output_type": "error",
     "traceback": [
      "\u001b[1;31m---------------------------------------------------------------------------\u001b[0m",
      "\u001b[1;31mValueError\u001b[0m                                Traceback (most recent call last)",
      "\u001b[1;32m~\\AppData\\Local\\Temp/ipykernel_10780/786456605.py\u001b[0m in \u001b[0;36m<module>\u001b[1;34m\u001b[0m\n\u001b[0;32m      4\u001b[0m \u001b[1;33m\u001b[0m\u001b[0m\n\u001b[0;32m      5\u001b[0m \u001b[1;32mif\u001b[0m \u001b[0mheight\u001b[0m \u001b[1;33m>\u001b[0m \u001b[1;36m3\u001b[0m\u001b[1;33m:\u001b[0m\u001b[1;33m\u001b[0m\u001b[1;33m\u001b[0m\u001b[0m\n\u001b[1;32m----> 6\u001b[1;33m     \u001b[1;32mraise\u001b[0m \u001b[0mValueError\u001b[0m\u001b[1;33m(\u001b[0m\u001b[1;34m\"Human Height should not be over 3 meters.\"\u001b[0m\u001b[1;33m)\u001b[0m \u001b[1;31m# raise your own error message\u001b[0m\u001b[1;33m\u001b[0m\u001b[1;33m\u001b[0m\u001b[0m\n\u001b[0m\u001b[0;32m      7\u001b[0m \u001b[1;33m\u001b[0m\u001b[0m\n\u001b[0;32m      8\u001b[0m \u001b[0mbmi\u001b[0m \u001b[1;33m=\u001b[0m \u001b[0mweight\u001b[0m \u001b[1;33m/\u001b[0m \u001b[0mheight\u001b[0m \u001b[1;33m**\u001b[0m \u001b[1;36m2\u001b[0m\u001b[1;33m\u001b[0m\u001b[1;33m\u001b[0m\u001b[0m\n",
      "\u001b[1;31mValueError\u001b[0m: Human Height should not be over 3 meters."
     ]
    }
   ],
   "source": [
    "#BMI Example\n",
    "height = float(input(\"Height: \"))\n",
    "weight = int(input(\"Weight: \"))\n",
    "\n",
    "if height > 3:\n",
    "    raise ValueError(\"Human Height should not be over 3 meters.\") # raise your own error message\n",
    "\n",
    "bmi = weight / height ** 2\n",
    "print(bmi)"
   ]
  },
  {
   "cell_type": "code",
   "execution_count": null,
   "metadata": {},
   "outputs": [],
   "source": [
    "fruits = [\"Apple\", \"Pear\", \"Orange\"]\n",
    "\n",
    "#TODO: Catch the exception and make sure the code runs without crashing.\n",
    "def make_pie(index):\n",
    "    try:\n",
    "        fruit = fruits[index]\n",
    "    except IndexError:\n",
    "        print(\"Fruit pie\")\n",
    "    else:\n",
    "        print(fruit + \" pie\")\n",
    "\n",
    "make_pie(4)"
   ]
  },
  {
   "cell_type": "code",
   "execution_count": null,
   "metadata": {},
   "outputs": [],
   "source": [
    "# Work with json file\n",
    "# with open(jsonFile, \"w\") as file:\n",
    "#   json.dump(data, file) | type(data) = dict\n",
    "# with open(jsonFile, \"r\") as file:\n",
    "#   json.load(data) | read mode\n",
    "\n",
    "# Add data to josn file\n",
    "import json\n",
    "new_data = {}\n",
    "try:\n",
    "    with open(\"file.json\", \"r\") as file:\n",
    "        data = json.load(file)\n",
    "        data.update(new_data)\n",
    "except FileNotFoundError:\n",
    "    with open(\"file.json\", \"w\") as file:\n",
    "        json.dump(new_data, file, indent=4)\n",
    "else:\n",
    "    with open(\"file.json\", \"w\") as file:\n",
    "        json.dump(data, file, indent=4)    "
   ]
  },
  {
   "cell_type": "code",
   "execution_count": null,
   "metadata": {},
   "outputs": [],
   "source": [
    "# 🚨 Password manager 2.0\n",
    "from email import message\n",
    "from gettext import find\n",
    "from tkinter import *\n",
    "from tkinter import messagebox\n",
    "import random\n",
    "import json\n",
    "import pyperclip\n",
    "\n",
    "# ---------------------------- PASSWORD GENERATOR ------------------------------- #\n",
    "\n",
    "#Password Generator Project\n",
    "def generate_password():\n",
    "    e_pass.delete(0, END)\n",
    "    letters = ['a', 'b', 'c', 'd', 'e', 'f', 'g', 'h', 'i', 'j', 'k', 'l', 'm', 'n', 'o', 'p', 'q', 'r', 's', 't', 'u', 'v', 'w', 'x', 'y', 'z', 'A', 'B', 'C', 'D', 'E', 'F', 'G', 'H', 'I', 'J', 'K', 'L', 'M', 'N', 'O', 'P', 'Q', 'R', 'S', 'T', 'U', 'V', 'W', 'X', 'Y', 'Z']\n",
    "    numbers = ['0', '1', '2', '3', '4', '5', '6', '7', '8', '9']\n",
    "    symbols = ['!', '#', '$', '%', '&', '(', ')', '*', '+']\n",
    "\n",
    "    nr_letters = random.randint(8, 10)\n",
    "    nr_symbols = random.randint(2, 4)\n",
    "    nr_numbers = random.randint(2, 4)\n",
    "\n",
    "    password_list = [random.choice(letters) for i in range(nr_letters)]\n",
    "    password_list += [random.choice(symbols) for i in range(nr_symbols)]\n",
    "    password_list += [random.choice(numbers) for i in range(nr_numbers)]\n",
    "\n",
    "    random.shuffle(password_list)\n",
    "\n",
    "    password = \"\".join(password_list)\n",
    "    e_pass.insert(END, password)\n",
    "    pyperclip.copy(password) # copy your password into your clipboard instantly\n",
    "\n",
    "# ---------------------------- SAVE PASSWORD ------------------------------- #\n",
    "\n",
    "def save():\n",
    "    e = e_email.get()\n",
    "    w = e_website.get()\n",
    "    p = e_pass.get()\n",
    "    new_data = {\n",
    "        w: {\n",
    "            \"email\": e,\n",
    "            \"password\": p,\n",
    "        }\n",
    "    }\n",
    "    while p == \"\" or e == \"\":\n",
    "        messagebox.showwarning(title=\"Erorr\", message=\"Please enter your email address and password\")\n",
    "\n",
    "    try:\n",
    "        with open(\"/Users/ez/OneDrive/Máy tính/codeprojects/PYTHON/100_days_of_Py/6_day(26-30)/password_manager_2.0/data.json\", mode=\"r\") as file:\n",
    "            data = json.load(file)\n",
    "    except FileNotFoundError:\n",
    "        with open(\"/Users/ez/OneDrive/Máy tính/codeprojects/PYTHON/100_days_of_Py/6_day(26-30)/password_manager_2.0/data.json\", mode=\"w\") as file:\n",
    "\n",
    "            is_ok = messagebox.askokcancel(title=\"Check\", message=\"Are you sure you want to save this data?\")\n",
    "            if is_ok:\n",
    "                json.dump(new_data, file, indent=4)\n",
    "    else:\n",
    "        data.update(new_data)\n",
    "        with open(\"/Users/ez/OneDrive/Máy tính/codeprojects/PYTHON/100_days_of_Py/6_day(26-30)/password_manager_2.0/data.json\", mode=\"w\") as file:\n",
    "\n",
    "            is_ok = messagebox.askokcancel(title=\"Check\", message=\"Are you sure you want to save this data?\")\n",
    "            if is_ok:\n",
    "                json.dump(data, file, indent=4)\n",
    "    finally:\n",
    "        e_website.delete(0, END)\n",
    "        e_pass.delete(0, END)\n",
    "\n",
    "# ---------------------------- SAVE PASSWORD ------------------------------- #\n",
    "\n",
    "def find_password():\n",
    "    try:\n",
    "        with open(\"/Users/ez/OneDrive/Máy tính/codeprojects/PYTHON/100_days_of_Py/6_day(26-30)/password_manager_2.0/data.json\", mode=\"r\") as file:\n",
    "            data = json.load(file)\n",
    "            w = e_website.get()\n",
    "            if w in data:\n",
    "                e = data[f\"{w}\"][\"email\"]\n",
    "                p = data[f\"{w}\"][\"password\"]\n",
    "                messagebox.showinfo(title=f\"{w}\", message=f\"Email: {e}\\nPassword: {p}\")\n",
    "            else:\n",
    "                messagebox.showinfo(title=f\"{w}\", message=\"No details for the website\")\n",
    "    except FileNotFoundError:\n",
    "        messagebox.showinfo(title=\"Error\", message=\"No Data File Found\")\n",
    "\n",
    "# ---------------------------- UI SETUP ------------------------------- #\n",
    "\n",
    "window = Tk()\n",
    "window.title(\"Password Manager\")\n",
    "window.config(padx=50, pady=50)\n",
    "\n",
    "canvas =  Canvas(width=200, height=200)\n",
    "logo = PhotoImage(file=\"/Users/ez/OneDrive/Máy tính/codeprojects/PYTHON/100_days_of_Py/6_day(26-30)/password_manager_2.0/logo.png\")\n",
    "canvas.create_image(100, 100, image=logo)\n",
    "canvas.grid(column=1, row=0)\n",
    "\n",
    "l_website = Label(text=\"Website:\")\n",
    "l_website.grid(column=0, row=1)\n",
    "l_email = Label(text=\"Email/Username:\")\n",
    "l_email.grid(column=0, row=2)\n",
    "l_pass = Label(text=\"Password:\")\n",
    "l_pass.grid(column=0, row=3)\n",
    "\n",
    "e_website = Entry(width=33)\n",
    "e_website.grid(column=1, row=1)\n",
    "e_website.focus()\n",
    "e_email = Entry(width=51)\n",
    "e_email.grid(column=1, row=2, columnspan=2)\n",
    "e_email.insert(END, \"nguyenngocthanh13022003@gmail.com\")\n",
    "e_pass = Entry(width=33)\n",
    "e_pass.grid(column=1, row=3)\n",
    "\n",
    "b_gen_pass = Button(text=\"Generate Password\", command=generate_password)\n",
    "b_gen_pass.grid(column=2, row=3)\n",
    "b_add = Button(text=\"Add\", width=43, command=save)\n",
    "b_add.grid(column=1, row=4, columnspan=2)\n",
    "b_email = Button(text=\"Search\", width=14, command=find_password)\n",
    "b_email.grid(column=2, row=1)\n",
    "\n",
    "window.mainloop()"
   ]
  }
 ],
 "metadata": {
  "kernelspec": {
   "display_name": "Python 3.9.7 ('base')",
   "language": "python",
   "name": "python3"
  },
  "language_info": {
   "codemirror_mode": {
    "name": "ipython",
    "version": 3
   },
   "file_extension": ".py",
   "mimetype": "text/x-python",
   "name": "python",
   "nbconvert_exporter": "python",
   "pygments_lexer": "ipython3",
   "version": "3.9.7"
  },
  "orig_nbformat": 4,
  "vscode": {
   "interpreter": {
    "hash": "d20d4eed201e135a92e4cffa48ff938af52352adb5646d0546e5d7d302dddd31"
   }
  }
 },
 "nbformat": 4,
 "nbformat_minor": 2
}
